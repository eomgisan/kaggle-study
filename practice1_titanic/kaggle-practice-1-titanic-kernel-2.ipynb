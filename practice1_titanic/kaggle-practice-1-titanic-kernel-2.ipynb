{
 "cells": [
  {
   "cell_type": "markdown",
   "id": "bdd268e4",
   "metadata": {
    "_cell_guid": "b1076dfc-b9ad-4769-8c92-a6c4dae69d19",
    "_uuid": "8f2839f25d086af736a60e9eeb907d3b93b6e0e5",
    "papermill": {
     "duration": 0.015379,
     "end_time": "2022-09-16T04:17:15.731485",
     "exception": false,
     "start_time": "2022-09-16T04:17:15.716106",
     "status": "completed"
    },
    "tags": []
   },
   "source": [
    "## 이 커널에서 주목해야할 점\n",
    "\n",
    "1) 나이의 null값을 단순 평균으로 지정한것이 아닌 이름에 mr. ms. 들어간것으로 어느정도 예측을 함\n",
    "\n",
    "이때 사용된 코드좀 분석해보기\n",
    "\n",
    "2) pandas crosstab에서 data.SibSp를 왜 중괄호로 묶은거지??\n",
    "\n",
    "3) SibSp vs Survived 그래프 왜 안나오지?\n"
   ]
  },
  {
   "cell_type": "markdown",
   "id": "22b82324",
   "metadata": {
    "papermill": {
     "duration": 0.01512,
     "end_time": "2022-09-16T04:17:15.761624",
     "exception": false,
     "start_time": "2022-09-16T04:17:15.746504",
     "status": "completed"
    },
    "tags": []
   },
   "source": [
    "**Contents of the notebook:**\n",
    "\n",
    "**Part1: Exploratory Data Analysis(EDA):**\n",
    "1) Analysis of the features\n",
    "\n",
    "2) Finding any relations or trends considering multiple features.\n",
    "\n",
    "**Part2: Feature Engineering and Data Cleaning**\n",
    "1) Adding any few features\n",
    "\n",
    "2) Removing redundant features\n",
    "\n",
    "3) Converting features into suitable form for modeling\n",
    "\n",
    "**Part3: Predictive Modeling**\n",
    "1) Running Basic Algorithms\n",
    "\n",
    "2) Cross Validation\n",
    "\n",
    "3) Ensembling\n",
    "\n",
    "4) Important Features Extraction"
   ]
  },
  {
   "cell_type": "markdown",
   "id": "2b2b4175",
   "metadata": {
    "papermill": {
     "duration": 0.016594,
     "end_time": "2022-09-16T04:17:15.799847",
     "exception": false,
     "start_time": "2022-09-16T04:17:15.783253",
     "status": "completed"
    },
    "tags": []
   },
   "source": [
    "**Part 1 : Exploratory Data Analysis(EDA)**"
   ]
  },
  {
   "cell_type": "code",
   "execution_count": 1,
   "id": "e301ee5c",
   "metadata": {
    "execution": {
     "iopub.execute_input": "2022-09-16T04:17:15.842563Z",
     "iopub.status.busy": "2022-09-16T04:17:15.841094Z",
     "iopub.status.idle": "2022-09-16T04:17:17.067425Z",
     "shell.execute_reply": "2022-09-16T04:17:17.066145Z"
    },
    "papermill": {
     "duration": 1.251013,
     "end_time": "2022-09-16T04:17:17.070497",
     "exception": false,
     "start_time": "2022-09-16T04:17:15.819484",
     "status": "completed"
    },
    "tags": []
   },
   "outputs": [],
   "source": [
    "import numpy as np\n",
    "import pandas as pd\n",
    "import matplotlib.pyplot as plt\n",
    "import seaborn as sns\n",
    "\n",
    "plt.style.use('seaborn')\n",
    "import warnings\n",
    "warnings.filterwarnings('ignore')\n",
    "%matplotlib inline"
   ]
  },
  {
   "cell_type": "code",
   "execution_count": 2,
   "id": "2e8893b8",
   "metadata": {
    "execution": {
     "iopub.execute_input": "2022-09-16T04:17:17.100728Z",
     "iopub.status.busy": "2022-09-16T04:17:17.100300Z",
     "iopub.status.idle": "2022-09-16T04:17:17.140775Z",
     "shell.execute_reply": "2022-09-16T04:17:17.139565Z"
    },
    "papermill": {
     "duration": 0.058562,
     "end_time": "2022-09-16T04:17:17.143524",
     "exception": false,
     "start_time": "2022-09-16T04:17:17.084962",
     "status": "completed"
    },
    "tags": []
   },
   "outputs": [
    {
     "data": {
      "text/html": [
       "<div>\n",
       "<style scoped>\n",
       "    .dataframe tbody tr th:only-of-type {\n",
       "        vertical-align: middle;\n",
       "    }\n",
       "\n",
       "    .dataframe tbody tr th {\n",
       "        vertical-align: top;\n",
       "    }\n",
       "\n",
       "    .dataframe thead th {\n",
       "        text-align: right;\n",
       "    }\n",
       "</style>\n",
       "<table border=\"1\" class=\"dataframe\">\n",
       "  <thead>\n",
       "    <tr style=\"text-align: right;\">\n",
       "      <th></th>\n",
       "      <th>PassengerId</th>\n",
       "      <th>Survived</th>\n",
       "      <th>Pclass</th>\n",
       "      <th>Name</th>\n",
       "      <th>Sex</th>\n",
       "      <th>Age</th>\n",
       "      <th>SibSp</th>\n",
       "      <th>Parch</th>\n",
       "      <th>Ticket</th>\n",
       "      <th>Fare</th>\n",
       "      <th>Cabin</th>\n",
       "      <th>Embarked</th>\n",
       "    </tr>\n",
       "  </thead>\n",
       "  <tbody>\n",
       "    <tr>\n",
       "      <th>0</th>\n",
       "      <td>1</td>\n",
       "      <td>0</td>\n",
       "      <td>3</td>\n",
       "      <td>Braund, Mr. Owen Harris</td>\n",
       "      <td>male</td>\n",
       "      <td>22.0</td>\n",
       "      <td>1</td>\n",
       "      <td>0</td>\n",
       "      <td>A/5 21171</td>\n",
       "      <td>7.2500</td>\n",
       "      <td>NaN</td>\n",
       "      <td>S</td>\n",
       "    </tr>\n",
       "    <tr>\n",
       "      <th>1</th>\n",
       "      <td>2</td>\n",
       "      <td>1</td>\n",
       "      <td>1</td>\n",
       "      <td>Cumings, Mrs. John Bradley (Florence Briggs Th...</td>\n",
       "      <td>female</td>\n",
       "      <td>38.0</td>\n",
       "      <td>1</td>\n",
       "      <td>0</td>\n",
       "      <td>PC 17599</td>\n",
       "      <td>71.2833</td>\n",
       "      <td>C85</td>\n",
       "      <td>C</td>\n",
       "    </tr>\n",
       "    <tr>\n",
       "      <th>2</th>\n",
       "      <td>3</td>\n",
       "      <td>1</td>\n",
       "      <td>3</td>\n",
       "      <td>Heikkinen, Miss. Laina</td>\n",
       "      <td>female</td>\n",
       "      <td>26.0</td>\n",
       "      <td>0</td>\n",
       "      <td>0</td>\n",
       "      <td>STON/O2. 3101282</td>\n",
       "      <td>7.9250</td>\n",
       "      <td>NaN</td>\n",
       "      <td>S</td>\n",
       "    </tr>\n",
       "    <tr>\n",
       "      <th>3</th>\n",
       "      <td>4</td>\n",
       "      <td>1</td>\n",
       "      <td>1</td>\n",
       "      <td>Futrelle, Mrs. Jacques Heath (Lily May Peel)</td>\n",
       "      <td>female</td>\n",
       "      <td>35.0</td>\n",
       "      <td>1</td>\n",
       "      <td>0</td>\n",
       "      <td>113803</td>\n",
       "      <td>53.1000</td>\n",
       "      <td>C123</td>\n",
       "      <td>S</td>\n",
       "    </tr>\n",
       "    <tr>\n",
       "      <th>4</th>\n",
       "      <td>5</td>\n",
       "      <td>0</td>\n",
       "      <td>3</td>\n",
       "      <td>Allen, Mr. William Henry</td>\n",
       "      <td>male</td>\n",
       "      <td>35.0</td>\n",
       "      <td>0</td>\n",
       "      <td>0</td>\n",
       "      <td>373450</td>\n",
       "      <td>8.0500</td>\n",
       "      <td>NaN</td>\n",
       "      <td>S</td>\n",
       "    </tr>\n",
       "  </tbody>\n",
       "</table>\n",
       "</div>"
      ],
      "text/plain": [
       "   PassengerId  Survived  Pclass  \\\n",
       "0            1         0       3   \n",
       "1            2         1       1   \n",
       "2            3         1       3   \n",
       "3            4         1       1   \n",
       "4            5         0       3   \n",
       "\n",
       "                                                Name     Sex   Age  SibSp  \\\n",
       "0                            Braund, Mr. Owen Harris    male  22.0      1   \n",
       "1  Cumings, Mrs. John Bradley (Florence Briggs Th...  female  38.0      1   \n",
       "2                             Heikkinen, Miss. Laina  female  26.0      0   \n",
       "3       Futrelle, Mrs. Jacques Heath (Lily May Peel)  female  35.0      1   \n",
       "4                           Allen, Mr. William Henry    male  35.0      0   \n",
       "\n",
       "   Parch            Ticket     Fare Cabin Embarked  \n",
       "0      0         A/5 21171   7.2500   NaN        S  \n",
       "1      0          PC 17599  71.2833   C85        C  \n",
       "2      0  STON/O2. 3101282   7.9250   NaN        S  \n",
       "3      0            113803  53.1000  C123        S  \n",
       "4      0            373450   8.0500   NaN        S  "
      ]
     },
     "execution_count": 2,
     "metadata": {},
     "output_type": "execute_result"
    }
   ],
   "source": [
    "data = pd.read_csv('../input/titanic/train.csv')\n",
    "data.head()"
   ]
  },
  {
   "cell_type": "code",
   "execution_count": 3,
   "id": "242d5805",
   "metadata": {
    "execution": {
     "iopub.execute_input": "2022-09-16T04:17:17.174248Z",
     "iopub.status.busy": "2022-09-16T04:17:17.173800Z",
     "iopub.status.idle": "2022-09-16T04:17:17.184989Z",
     "shell.execute_reply": "2022-09-16T04:17:17.183480Z"
    },
    "papermill": {
     "duration": 0.029557,
     "end_time": "2022-09-16T04:17:17.187713",
     "exception": false,
     "start_time": "2022-09-16T04:17:17.158156",
     "status": "completed"
    },
    "tags": []
   },
   "outputs": [
    {
     "data": {
      "text/plain": [
       "PassengerId      0\n",
       "Survived         0\n",
       "Pclass           0\n",
       "Name             0\n",
       "Sex              0\n",
       "Age            177\n",
       "SibSp            0\n",
       "Parch            0\n",
       "Ticket           0\n",
       "Fare             0\n",
       "Cabin          687\n",
       "Embarked         2\n",
       "dtype: int64"
      ]
     },
     "execution_count": 3,
     "metadata": {},
     "output_type": "execute_result"
    }
   ],
   "source": [
    "data.isnull().sum()"
   ]
  },
  {
   "cell_type": "markdown",
   "id": "181fd1f9",
   "metadata": {
    "papermill": {
     "duration": 0.013655,
     "end_time": "2022-09-16T04:17:17.215448",
     "exception": false,
     "start_time": "2022-09-16T04:17:17.201793",
     "status": "completed"
    },
    "tags": []
   },
   "source": [
    "Age와 Cabin 그리고 Embarked에서 null값이 존재함으로 이를 수정을 해야한다."
   ]
  },
  {
   "cell_type": "markdown",
   "id": "e92cb16a",
   "metadata": {
    "papermill": {
     "duration": 0.013728,
     "end_time": "2022-09-16T04:17:17.243618",
     "exception": false,
     "start_time": "2022-09-16T04:17:17.229890",
     "status": "completed"
    },
    "tags": []
   },
   "source": [
    "**How many Survived??**"
   ]
  },
  {
   "cell_type": "code",
   "execution_count": 4,
   "id": "6d9b5a33",
   "metadata": {
    "execution": {
     "iopub.execute_input": "2022-09-16T04:17:17.274683Z",
     "iopub.status.busy": "2022-09-16T04:17:17.274235Z",
     "iopub.status.idle": "2022-09-16T04:17:17.622951Z",
     "shell.execute_reply": "2022-09-16T04:17:17.621537Z"
    },
    "papermill": {
     "duration": 0.367722,
     "end_time": "2022-09-16T04:17:17.625775",
     "exception": false,
     "start_time": "2022-09-16T04:17:17.258053",
     "status": "completed"
    },
    "tags": []
   },
   "outputs": [
    {
     "data": {
      "image/png": "[encoded data removed]",
      "text/plain": [
       "<Figure size 1296x576 with 2 Axes>"
      ]
     },
     "metadata": {
      "needs_background": "light"
     },
     "output_type": "display_data"
    }
   ],
   "source": [
    "f,ax = plt.subplots(1,2,figsize=(18,8))\n",
    "data['Survived'].value_counts().plot.pie(explode=[0,0.1],autopct='%1.1f%%',ax=ax[0],shadow=True)\n",
    "ax[0].set_title('Survived')\n",
    "ax[0].set_ylabel('')\n",
    "sns.countplot('Survived',data=data,ax=ax[1])\n",
    "ax[1].set_title('Survived')\n",
    "plt.show()"
   ]
  },
  {
   "cell_type": "markdown",
   "id": "085366c6",
   "metadata": {
    "papermill": {
     "duration": 0.014219,
     "end_time": "2022-09-16T04:17:17.655356",
     "exception": false,
     "start_time": "2022-09-16T04:17:17.641137",
     "status": "completed"
    },
    "tags": []
   },
   "source": [
    "38.4 퍼센트의 인원만 살아남은것을 확인할 수 있다.\n",
    "\n",
    "총 891명의 인원중 거의 350명이 살아남았다.\n",
    "\n",
    "우리는 좀더 데이터에 대한 확실한 시야를 가질수 있도록 데이터를 좀더 자세히 확인해볼 필요가있다.\n",
    "\n",
    "서로 다른 feature들 사이에 survived의 비율을 확인할 필요가 있다."
   ]
  },
  {
   "cell_type": "markdown",
   "id": "05b04276",
   "metadata": {
    "execution": {
     "iopub.execute_input": "2022-09-13T07:11:30.338801Z",
     "iopub.status.busy": "2022-09-13T07:11:30.338354Z",
     "iopub.status.idle": "2022-09-13T07:11:30.346598Z",
     "shell.execute_reply": "2022-09-13T07:11:30.344875Z",
     "shell.execute_reply.started": "2022-09-13T07:11:30.338765Z"
    },
    "papermill": {
     "duration": 0.014236,
     "end_time": "2022-09-16T04:17:17.684065",
     "exception": false,
     "start_time": "2022-09-16T04:17:17.669829",
     "status": "completed"
    },
    "tags": []
   },
   "source": [
    "**Types Of Features**\n",
    "\n",
    "**Categorical Features:**\n",
    "\n",
    "A categorical variable is one that has two or more categories and each value in that feature can ve categorised by them. For example, gender is a categorical variable having cwo categories(male, female). Now we cannot sort or give any ordering to such variables. They are alse known as Nominal Variables.\n",
    "\n",
    "즉 우리는 여기에 다른 변수를 마음대로 추가할수 없다.\n",
    "\n",
    "**Categorical Features in the dataset: Sex,Embarked**\n",
    "\n",
    "**Continuos Feature:**\n",
    "\n",
    "A feature is said to be continous if it can take values between any two points or between the minimum or maximum values in the features column.\n",
    "\n",
    "즉 이 데이터에는 min, max 평균 등 수학적 통계값들을 사용할 수 있다.\n",
    "\n",
    "**Continous Features in the dataset: Age**\n"
   ]
  },
  {
   "cell_type": "markdown",
   "id": "95ce486f",
   "metadata": {
    "papermill": {
     "duration": 0.014236,
     "end_time": "2022-09-16T04:17:17.713858",
     "exception": false,
     "start_time": "2022-09-16T04:17:17.699622",
     "status": "completed"
    },
    "tags": []
   },
   "source": [
    "## Analysing The Features\n",
    "\n",
    "\n",
    "## Sex--> Categorical Feature"
   ]
  },
  {
   "cell_type": "code",
   "execution_count": 5,
   "id": "52f291c0",
   "metadata": {
    "execution": {
     "iopub.execute_input": "2022-09-16T04:17:17.746702Z",
     "iopub.status.busy": "2022-09-16T04:17:17.745816Z",
     "iopub.status.idle": "2022-09-16T04:17:17.757996Z",
     "shell.execute_reply": "2022-09-16T04:17:17.757074Z"
    },
    "papermill": {
     "duration": 0.031488,
     "end_time": "2022-09-16T04:17:17.760416",
     "exception": false,
     "start_time": "2022-09-16T04:17:17.728928",
     "status": "completed"
    },
    "tags": []
   },
   "outputs": [
    {
     "data": {
      "text/plain": [
       "Sex     Survived\n",
       "female  0            81\n",
       "        1           233\n",
       "male    0           468\n",
       "        1           109\n",
       "Name: Survived, dtype: int64"
      ]
     },
     "execution_count": 5,
     "metadata": {},
     "output_type": "execute_result"
    }
   ],
   "source": [
    "data.groupby(['Sex','Survived'])['Survived'].count()"
   ]
  },
  {
   "cell_type": "code",
   "execution_count": 6,
   "id": "05699608",
   "metadata": {
    "execution": {
     "iopub.execute_input": "2022-09-16T04:17:17.791850Z",
     "iopub.status.busy": "2022-09-16T04:17:17.791064Z",
     "iopub.status.idle": "2022-09-16T04:17:18.133073Z",
     "shell.execute_reply": "2022-09-16T04:17:18.131649Z"
    },
    "papermill": {
     "duration": 0.361615,
     "end_time": "2022-09-16T04:17:18.136713",
     "exception": false,
     "start_time": "2022-09-16T04:17:17.775098",
     "status": "completed"
    },
    "tags": []
   },
   "outputs": [
    {
     "data": {
      "image/png": "[encoded data removed]",
      "text/plain": [
       "<Figure size 1296x576 with 2 Axes>"
      ]
     },
     "metadata": {
      "needs_background": "light"
     },
     "output_type": "display_data"
    }
   ],
   "source": [
    "f,ax=plt.subplots(1,2,figsize=(18,8))\n",
    "data[['Sex','Survived']].groupby(['Sex']).mean().plot.bar(ax=ax[0])\n",
    "ax[0].set_title('Survived vs Sex')\n",
    "sns.countplot('Sex',hue='Survived',data=data,ax=ax[1])\n",
    "ax[1].set_title('Sex:Survived vs Dead')\n",
    "plt.show()"
   ]
  },
  {
   "cell_type": "markdown",
   "id": "529943bb",
   "metadata": {
    "papermill": {
     "duration": 0.014713,
     "end_time": "2022-09-16T04:17:18.167229",
     "exception": false,
     "start_time": "2022-09-16T04:17:18.152516",
     "status": "completed"
    },
    "tags": []
   },
   "source": [
    "#### Expand\n",
    "\n",
    "This looks interesting. The number of men on the hisp is lot more than th number of women. Still the number of wemen, saved is almost twice th number of males saved. The survival rates for a women on the ship is around 75% while that for men in around 18-19%\n",
    "\n",
    "This looks to be a very important feature for modeling. But is it the best?? Lets check other features.\n",
    "\n",
    "## Pclass --> Ordinal Feature"
   ]
  },
  {
   "cell_type": "code",
   "execution_count": 7,
   "id": "e5d9290b",
   "metadata": {
    "execution": {
     "iopub.execute_input": "2022-09-16T04:17:18.199648Z",
     "iopub.status.busy": "2022-09-16T04:17:18.198847Z",
     "iopub.status.idle": "2022-09-16T04:17:18.314062Z",
     "shell.execute_reply": "2022-09-16T04:17:18.313060Z"
    },
    "papermill": {
     "duration": 0.134411,
     "end_time": "2022-09-16T04:17:18.316686",
     "exception": false,
     "start_time": "2022-09-16T04:17:18.182275",
     "status": "completed"
    },
    "tags": []
   },
   "outputs": [
    {
     "data": {
      "text/html": [
       "<style type=\"text/css\">\n",
       "#T_29fe1_row0_col0, #T_29fe1_row1_col1, #T_29fe1_row1_col2 {\n",
       "  background-color: #ffff66;\n",
       "  color: #000000;\n",
       "}\n",
       "#T_29fe1_row0_col1 {\n",
       "  background-color: #cee666;\n",
       "  color: #000000;\n",
       "}\n",
       "#T_29fe1_row0_col2 {\n",
       "  background-color: #f4fa66;\n",
       "  color: #000000;\n",
       "}\n",
       "#T_29fe1_row1_col0 {\n",
       "  background-color: #f6fa66;\n",
       "  color: #000000;\n",
       "}\n",
       "#T_29fe1_row2_col0 {\n",
       "  background-color: #60b066;\n",
       "  color: #f1f1f1;\n",
       "}\n",
       "#T_29fe1_row2_col1 {\n",
       "  background-color: #dfef66;\n",
       "  color: #000000;\n",
       "}\n",
       "#T_29fe1_row2_col2 {\n",
       "  background-color: #90c866;\n",
       "  color: #000000;\n",
       "}\n",
       "#T_29fe1_row3_col0, #T_29fe1_row3_col1, #T_29fe1_row3_col2 {\n",
       "  background-color: #008066;\n",
       "  color: #f1f1f1;\n",
       "}\n",
       "</style>\n",
       "<table id=\"T_29fe1_\">\n",
       "  <thead>\n",
       "    <tr>\n",
       "      <th class=\"index_name level0\" >Survived</th>\n",
       "      <th class=\"col_heading level0 col0\" >0</th>\n",
       "      <th class=\"col_heading level0 col1\" >1</th>\n",
       "      <th class=\"col_heading level0 col2\" >All</th>\n",
       "    </tr>\n",
       "    <tr>\n",
       "      <th class=\"index_name level0\" >Pclass</th>\n",
       "      <th class=\"blank col0\" >&nbsp;</th>\n",
       "      <th class=\"blank col1\" >&nbsp;</th>\n",
       "      <th class=\"blank col2\" >&nbsp;</th>\n",
       "    </tr>\n",
       "  </thead>\n",
       "  <tbody>\n",
       "    <tr>\n",
       "      <th id=\"T_29fe1_level0_row0\" class=\"row_heading level0 row0\" >1</th>\n",
       "      <td id=\"T_29fe1_row0_col0\" class=\"data row0 col0\" >80</td>\n",
       "      <td id=\"T_29fe1_row0_col1\" class=\"data row0 col1\" >136</td>\n",
       "      <td id=\"T_29fe1_row0_col2\" class=\"data row0 col2\" >216</td>\n",
       "    </tr>\n",
       "    <tr>\n",
       "      <th id=\"T_29fe1_level0_row1\" class=\"row_heading level0 row1\" >2</th>\n",
       "      <td id=\"T_29fe1_row1_col0\" class=\"data row1 col0\" >97</td>\n",
       "      <td id=\"T_29fe1_row1_col1\" class=\"data row1 col1\" >87</td>\n",
       "      <td id=\"T_29fe1_row1_col2\" class=\"data row1 col2\" >184</td>\n",
       "    </tr>\n",
       "    <tr>\n",
       "      <th id=\"T_29fe1_level0_row2\" class=\"row_heading level0 row2\" >3</th>\n",
       "      <td id=\"T_29fe1_row2_col0\" class=\"data row2 col0\" >372</td>\n",
       "      <td id=\"T_29fe1_row2_col1\" class=\"data row2 col1\" >119</td>\n",
       "      <td id=\"T_29fe1_row2_col2\" class=\"data row2 col2\" >491</td>\n",
       "    </tr>\n",
       "    <tr>\n",
       "      <th id=\"T_29fe1_level0_row3\" class=\"row_heading level0 row3\" >All</th>\n",
       "      <td id=\"T_29fe1_row3_col0\" class=\"data row3 col0\" >549</td>\n",
       "      <td id=\"T_29fe1_row3_col1\" class=\"data row3 col1\" >342</td>\n",
       "      <td id=\"T_29fe1_row3_col2\" class=\"data row3 col2\" >891</td>\n",
       "    </tr>\n",
       "  </tbody>\n",
       "</table>\n"
      ],
      "text/plain": [
       "<pandas.io.formats.style.Styler at 0x7fe8e54ccf50>"
      ]
     },
     "execution_count": 7,
     "metadata": {},
     "output_type": "execute_result"
    }
   ],
   "source": [
    "pd.crosstab(data.Pclass, data.Survived, margins=True).style.background_gradient(cmap='summer_r')"
   ]
  },
  {
   "cell_type": "code",
   "execution_count": 8,
   "id": "f6fe116c",
   "metadata": {
    "execution": {
     "iopub.execute_input": "2022-09-16T04:17:18.349415Z",
     "iopub.status.busy": "2022-09-16T04:17:18.348677Z",
     "iopub.status.idle": "2022-09-16T04:17:18.683826Z",
     "shell.execute_reply": "2022-09-16T04:17:18.682590Z"
    },
    "papermill": {
     "duration": 0.354808,
     "end_time": "2022-09-16T04:17:18.686795",
     "exception": false,
     "start_time": "2022-09-16T04:17:18.331987",
     "status": "completed"
    },
    "tags": []
   },
   "outputs": [
    {
     "data": {
      "image/png": "[encoded data removed]",
      "text/plain": [
       "<Figure size 1296x576 with 2 Axes>"
      ]
     },
     "metadata": {
      "needs_background": "light"
     },
     "output_type": "display_data"
    }
   ],
   "source": [
    "f, ax = plt.subplots(1,2,figsize=(18,8))\n",
    "data['Pclass'].value_counts().plot.bar(color=['#CD7F32','#FFDF00','#D3D3D3'],ax=ax[0])\n",
    "ax[0].set_title('Number Of Passengers By Pclass')\n",
    "ax[0].set_ylabel('Count')\n",
    "sns.countplot('Pclass',hue='Survived',data=data,ax=ax[1])\n",
    "ax[1].set_title('Pclass:Survived vs Dead')\n",
    "plt.show()"
   ]
  },
  {
   "cell_type": "markdown",
   "id": "8722bcd7",
   "metadata": {
    "papermill": {
     "duration": 0.016086,
     "end_time": "2022-09-16T04:17:18.718761",
     "exception": false,
     "start_time": "2022-09-16T04:17:18.702675",
     "status": "completed"
    },
    "tags": []
   },
   "source": [
    "People say **Money Can't Buy Everything**. But we can clearly see that Passenegers Of Pclass 1 were given a very high priority while rescue. Even though the the number of Passengers in Pclass 3 were a lot higher, still the number of survival from them is very low, somewhere around **25%**.\n",
    "\n",
    "For Pclass 1 %survived is around **63%** while for Pclass2 is around **48%**. So money and status matters. Such a materialistic world.\n",
    "\n",
    "Lets Dive in little bit more and check for other interesting observations. Lets check survival rate with **Sex and Pclass** Together."
   ]
  },
  {
   "cell_type": "code",
   "execution_count": 9,
   "id": "191230fd",
   "metadata": {
    "execution": {
     "iopub.execute_input": "2022-09-16T04:17:18.752672Z",
     "iopub.status.busy": "2022-09-16T04:17:18.752244Z",
     "iopub.status.idle": "2022-09-16T04:17:18.807184Z",
     "shell.execute_reply": "2022-09-16T04:17:18.805966Z"
    },
    "papermill": {
     "duration": 0.074426,
     "end_time": "2022-09-16T04:17:18.809688",
     "exception": false,
     "start_time": "2022-09-16T04:17:18.735262",
     "status": "completed"
    },
    "tags": []
   },
   "outputs": [
    {
     "data": {
      "text/html": [
       "<style type=\"text/css\">\n",
       "#T_77bdd_row0_col0, #T_77bdd_row0_col1, #T_77bdd_row0_col3, #T_77bdd_row3_col2 {\n",
       "  background-color: #ffff66;\n",
       "  color: #000000;\n",
       "}\n",
       "#T_77bdd_row0_col2, #T_77bdd_row1_col2 {\n",
       "  background-color: #f1f866;\n",
       "  color: #000000;\n",
       "}\n",
       "#T_77bdd_row1_col0 {\n",
       "  background-color: #96cb66;\n",
       "  color: #000000;\n",
       "}\n",
       "#T_77bdd_row1_col1 {\n",
       "  background-color: #a3d166;\n",
       "  color: #000000;\n",
       "}\n",
       "#T_77bdd_row1_col3 {\n",
       "  background-color: #cfe766;\n",
       "  color: #000000;\n",
       "}\n",
       "#T_77bdd_row2_col0 {\n",
       "  background-color: #a7d366;\n",
       "  color: #000000;\n",
       "}\n",
       "#T_77bdd_row2_col1, #T_77bdd_row2_col3 {\n",
       "  background-color: #85c266;\n",
       "  color: #000000;\n",
       "}\n",
       "#T_77bdd_row2_col2 {\n",
       "  background-color: #6eb666;\n",
       "  color: #f1f1f1;\n",
       "}\n",
       "#T_77bdd_row3_col0 {\n",
       "  background-color: #cde666;\n",
       "  color: #000000;\n",
       "}\n",
       "#T_77bdd_row3_col1 {\n",
       "  background-color: #f0f866;\n",
       "  color: #000000;\n",
       "}\n",
       "#T_77bdd_row3_col3 {\n",
       "  background-color: #f7fb66;\n",
       "  color: #000000;\n",
       "}\n",
       "#T_77bdd_row4_col0, #T_77bdd_row4_col1, #T_77bdd_row4_col2, #T_77bdd_row4_col3 {\n",
       "  background-color: #008066;\n",
       "  color: #f1f1f1;\n",
       "}\n",
       "</style>\n",
       "<table id=\"T_77bdd_\">\n",
       "  <thead>\n",
       "    <tr>\n",
       "      <th class=\"blank\" >&nbsp;</th>\n",
       "      <th class=\"index_name level0\" >Pclass</th>\n",
       "      <th class=\"col_heading level0 col0\" >1</th>\n",
       "      <th class=\"col_heading level0 col1\" >2</th>\n",
       "      <th class=\"col_heading level0 col2\" >3</th>\n",
       "      <th class=\"col_heading level0 col3\" >All</th>\n",
       "    </tr>\n",
       "    <tr>\n",
       "      <th class=\"index_name level0\" >Sex</th>\n",
       "      <th class=\"index_name level1\" >Survived</th>\n",
       "      <th class=\"blank col0\" >&nbsp;</th>\n",
       "      <th class=\"blank col1\" >&nbsp;</th>\n",
       "      <th class=\"blank col2\" >&nbsp;</th>\n",
       "      <th class=\"blank col3\" >&nbsp;</th>\n",
       "    </tr>\n",
       "  </thead>\n",
       "  <tbody>\n",
       "    <tr>\n",
       "      <th id=\"T_77bdd_level0_row0\" class=\"row_heading level0 row0\" rowspan=\"2\">female</th>\n",
       "      <th id=\"T_77bdd_level1_row0\" class=\"row_heading level1 row0\" >0</th>\n",
       "      <td id=\"T_77bdd_row0_col0\" class=\"data row0 col0\" >3</td>\n",
       "      <td id=\"T_77bdd_row0_col1\" class=\"data row0 col1\" >6</td>\n",
       "      <td id=\"T_77bdd_row0_col2\" class=\"data row0 col2\" >72</td>\n",
       "      <td id=\"T_77bdd_row0_col3\" class=\"data row0 col3\" >81</td>\n",
       "    </tr>\n",
       "    <tr>\n",
       "      <th id=\"T_77bdd_level1_row1\" class=\"row_heading level1 row1\" >1</th>\n",
       "      <td id=\"T_77bdd_row1_col0\" class=\"data row1 col0\" >91</td>\n",
       "      <td id=\"T_77bdd_row1_col1\" class=\"data row1 col1\" >70</td>\n",
       "      <td id=\"T_77bdd_row1_col2\" class=\"data row1 col2\" >72</td>\n",
       "      <td id=\"T_77bdd_row1_col3\" class=\"data row1 col3\" >233</td>\n",
       "    </tr>\n",
       "    <tr>\n",
       "      <th id=\"T_77bdd_level0_row2\" class=\"row_heading level0 row2\" rowspan=\"2\">male</th>\n",
       "      <th id=\"T_77bdd_level1_row2\" class=\"row_heading level1 row2\" >0</th>\n",
       "      <td id=\"T_77bdd_row2_col0\" class=\"data row2 col0\" >77</td>\n",
       "      <td id=\"T_77bdd_row2_col1\" class=\"data row2 col1\" >91</td>\n",
       "      <td id=\"T_77bdd_row2_col2\" class=\"data row2 col2\" >300</td>\n",
       "      <td id=\"T_77bdd_row2_col3\" class=\"data row2 col3\" >468</td>\n",
       "    </tr>\n",
       "    <tr>\n",
       "      <th id=\"T_77bdd_level1_row3\" class=\"row_heading level1 row3\" >1</th>\n",
       "      <td id=\"T_77bdd_row3_col0\" class=\"data row3 col0\" >45</td>\n",
       "      <td id=\"T_77bdd_row3_col1\" class=\"data row3 col1\" >17</td>\n",
       "      <td id=\"T_77bdd_row3_col2\" class=\"data row3 col2\" >47</td>\n",
       "      <td id=\"T_77bdd_row3_col3\" class=\"data row3 col3\" >109</td>\n",
       "    </tr>\n",
       "    <tr>\n",
       "      <th id=\"T_77bdd_level0_row4\" class=\"row_heading level0 row4\" >All</th>\n",
       "      <th id=\"T_77bdd_level1_row4\" class=\"row_heading level1 row4\" ></th>\n",
       "      <td id=\"T_77bdd_row4_col0\" class=\"data row4 col0\" >216</td>\n",
       "      <td id=\"T_77bdd_row4_col1\" class=\"data row4 col1\" >184</td>\n",
       "      <td id=\"T_77bdd_row4_col2\" class=\"data row4 col2\" >491</td>\n",
       "      <td id=\"T_77bdd_row4_col3\" class=\"data row4 col3\" >891</td>\n",
       "    </tr>\n",
       "  </tbody>\n",
       "</table>\n"
      ],
      "text/plain": [
       "<pandas.io.formats.style.Styler at 0x7fe8e521f350>"
      ]
     },
     "execution_count": 9,
     "metadata": {},
     "output_type": "execute_result"
    }
   ],
   "source": [
    "pd.crosstab([data.Sex,data.Survived],data.Pclass,margins=True).style.background_gradient(cmap='summer_r')"
   ]
  },
  {
   "cell_type": "code",
   "execution_count": 10,
   "id": "c662af7b",
   "metadata": {
    "execution": {
     "iopub.execute_input": "2022-09-16T04:17:18.843832Z",
     "iopub.status.busy": "2022-09-16T04:17:18.842710Z",
     "iopub.status.idle": "2022-09-16T04:17:19.375003Z",
     "shell.execute_reply": "2022-09-16T04:17:19.373531Z"
    },
    "papermill": {
     "duration": 0.552396,
     "end_time": "2022-09-16T04:17:19.377839",
     "exception": false,
     "start_time": "2022-09-16T04:17:18.825443",
     "status": "completed"
    },
    "tags": []
   },
   "outputs": [
    {
     "data": {
      "image/png": "[encoded data removed]",
      "text/plain": [
       "<Figure size 430.5x360 with 1 Axes>"
      ]
     },
     "metadata": {
      "needs_background": "light"
     },
     "output_type": "display_data"
    }
   ],
   "source": [
    "sns.factorplot('Pclass','Survived',hue='Sex',data= data)\n",
    "plt.show()"
   ]
  },
  {
   "cell_type": "markdown",
   "id": "c6b45ff6",
   "metadata": {
    "papermill": {
     "duration": 0.016604,
     "end_time": "2022-09-16T04:17:19.411877",
     "exception": false,
     "start_time": "2022-09-16T04:17:19.395273",
     "status": "completed"
    },
    "tags": []
   },
   "source": [
    "We use **FactorPlot** in this case, because they make the seperation of categorical values easy.\n",
    "\n",
    "Looking at the **CrossTab** and the **FactorPlot**, we can easily infer that survival for **Women from Pclass1** is about **95-96%**, as only 3 out of 94 Women from Pclass1 died. \n",
    "\n",
    "It is evident that irrespective of Pclass, Women were given first priority while rescue. Even Men from Pclass1 have a very low survival rate.\n",
    "\n",
    "Looks like Pclass is also an important feature. Lets analyse other features."
   ]
  },
  {
   "cell_type": "markdown",
   "id": "bb1da65e",
   "metadata": {
    "papermill": {
     "duration": 0.016102,
     "end_time": "2022-09-16T04:17:19.446588",
     "exception": false,
     "start_time": "2022-09-16T04:17:19.430486",
     "status": "completed"
    },
    "tags": []
   },
   "source": [
    "## Age --> Continous Feature"
   ]
  },
  {
   "cell_type": "code",
   "execution_count": 11,
   "id": "447f7675",
   "metadata": {
    "execution": {
     "iopub.execute_input": "2022-09-16T04:17:19.483016Z",
     "iopub.status.busy": "2022-09-16T04:17:19.482541Z",
     "iopub.status.idle": "2022-09-16T04:17:19.492130Z",
     "shell.execute_reply": "2022-09-16T04:17:19.489889Z"
    },
    "papermill": {
     "duration": 0.032154,
     "end_time": "2022-09-16T04:17:19.495830",
     "exception": false,
     "start_time": "2022-09-16T04:17:19.463676",
     "status": "completed"
    },
    "tags": []
   },
   "outputs": [
    {
     "name": "stdout",
     "output_type": "stream",
     "text": [
      "Oldest Passenger was of : 80.0 Years\n",
      "Youngest Passenger was of : 0.42 Years\n",
      "Average Age on the ship : 29.69911764705882 Years\n"
     ]
    }
   ],
   "source": [
    "print('Oldest Passenger was of :',data['Age'].max(),'Years')\n",
    "print('Youngest Passenger was of :',data['Age'].min(),'Years')\n",
    "print('Average Age on the ship :',data['Age'].mean(),'Years')"
   ]
  },
  {
   "cell_type": "code",
   "execution_count": 12,
   "id": "70863487",
   "metadata": {
    "execution": {
     "iopub.execute_input": "2022-09-16T04:17:19.532554Z",
     "iopub.status.busy": "2022-09-16T04:17:19.532114Z",
     "iopub.status.idle": "2022-09-16T04:17:20.051836Z",
     "shell.execute_reply": "2022-09-16T04:17:20.050341Z"
    },
    "papermill": {
     "duration": 0.542234,
     "end_time": "2022-09-16T04:17:20.054734",
     "exception": false,
     "start_time": "2022-09-16T04:17:19.512500",
     "status": "completed"
    },
    "tags": []
   },
   "outputs": [
    {
     "data": {
      "image/png": "[encoded data removed]",
      "text/plain": [
       "<Figure size 1296x576 with 2 Axes>"
      ]
     },
     "metadata": {
      "needs_background": "light"
     },
     "output_type": "display_data"
    }
   ],
   "source": [
    "f,ax=plt.subplots(1,2,figsize=(18,8))\n",
    "sns.violinplot(\"Pclass\",\"Age\",hue=\"Survived\",data=data,split=True,ax=ax[0])\n",
    "ax[0].set_title(\"Pclass and Age vs Survived\")\n",
    "ax[0].set_yticks(range(0,110,10))\n",
    "sns.violinplot(\"Sex\",\"Age\",hue=\"Survived\",data=data,split=True,ax=ax[1])\n",
    "ax[1].set_title(\"Sex and Age vs Survived\")\n",
    "ax[1].set_yticks(range(0,110,10))\n",
    "plt.show()"
   ]
  },
  {
   "cell_type": "markdown",
   "id": "a9c79bf3",
   "metadata": {
    "papermill": {
     "duration": 0.01722,
     "end_time": "2022-09-16T04:17:20.089948",
     "exception": false,
     "start_time": "2022-09-16T04:17:20.072728",
     "status": "completed"
    },
    "tags": []
   },
   "source": [
    "#### Observations:\n",
    "\n",
    "1)The number of children increases with Pclass and the survival rate for passenegers below Age 10(i.e children) looks to be good irrespective of the Pclass.\n",
    "\n",
    "2)Survival chances for Passenegers aged 20-50 from Pclass1 is high and is even better for Women.\n",
    "\n",
    "3)For males, the survival chances decreases with an increase in age.\n",
    "\n",
    "As we had seen earlier, the Age feature has **177** null values. To replace these NaN values, we can assign them the mean age of the dataset.\n",
    "\n",
    "But the problem is, there were many people with many different ages. We just cant assign a 4 year kid with the mean age that is 29 years. Is there any way to find out what age-band does the passenger lie??\n",
    "\n",
    "**Bingo!!!!**, we can check the **Name**  feature. Looking upon the feature, we can see that the names have a salutation like Mr or Mrs. Thus we can assign the mean values of Mr and Mrs to the respective groups.\n",
    "\n",
    "**''What's In A Name??''**---> **Feature**  :p"
   ]
  },
  {
   "cell_type": "code",
   "execution_count": 13,
   "id": "ebda8d9a",
   "metadata": {
    "execution": {
     "iopub.execute_input": "2022-09-16T04:17:20.126819Z",
     "iopub.status.busy": "2022-09-16T04:17:20.126433Z",
     "iopub.status.idle": "2022-09-16T04:17:20.172627Z",
     "shell.execute_reply": "2022-09-16T04:17:20.171549Z"
    },
    "papermill": {
     "duration": 0.06773,
     "end_time": "2022-09-16T04:17:20.175264",
     "exception": false,
     "start_time": "2022-09-16T04:17:20.107534",
     "status": "completed"
    },
    "tags": []
   },
   "outputs": [],
   "source": [
    "data['Initial']=0\n",
    "for i in data:\n",
    "    data['Initial']=data.Name.str.extract('([A-Za-z]+)\\.')#lets extract the Salutations"
   ]
  },
  {
   "cell_type": "markdown",
   "id": "8806c5a8",
   "metadata": {
    "papermill": {
     "duration": 0.017605,
     "end_time": "2022-09-16T04:17:20.210643",
     "exception": false,
     "start_time": "2022-09-16T04:17:20.193038",
     "status": "completed"
    },
    "tags": []
   },
   "source": [
    "Okay so here we are using the Regex: **[A-Za-z]+)\\.**. So what it does is, it looks for strings which lie between **A-Z or a-z** and followed by a **.(dot)**. So we successfully extract the Initials from the Name."
   ]
  },
  {
   "cell_type": "code",
   "execution_count": 14,
   "id": "7a984211",
   "metadata": {
    "execution": {
     "iopub.execute_input": "2022-09-16T04:17:20.249329Z",
     "iopub.status.busy": "2022-09-16T04:17:20.248155Z",
     "iopub.status.idle": "2022-09-16T04:17:20.297988Z",
     "shell.execute_reply": "2022-09-16T04:17:20.296984Z"
    },
    "papermill": {
     "duration": 0.071436,
     "end_time": "2022-09-16T04:17:20.300415",
     "exception": false,
     "start_time": "2022-09-16T04:17:20.228979",
     "status": "completed"
    },
    "tags": []
   },
   "outputs": [
    {
     "data": {
      "text/html": [
       "<style type=\"text/css\">\n",
       "#T_62262_row0_col0, #T_62262_row0_col1, #T_62262_row0_col3, #T_62262_row0_col4, #T_62262_row0_col5, #T_62262_row0_col7, #T_62262_row0_col8, #T_62262_row0_col12, #T_62262_row0_col15, #T_62262_row0_col16, #T_62262_row1_col2, #T_62262_row1_col6, #T_62262_row1_col9, #T_62262_row1_col10, #T_62262_row1_col11, #T_62262_row1_col13, #T_62262_row1_col14 {\n",
       "  background-color: #ffff66;\n",
       "  color: #000000;\n",
       "}\n",
       "#T_62262_row0_col2, #T_62262_row0_col6, #T_62262_row0_col9, #T_62262_row0_col10, #T_62262_row0_col11, #T_62262_row0_col13, #T_62262_row0_col14, #T_62262_row1_col0, #T_62262_row1_col1, #T_62262_row1_col3, #T_62262_row1_col4, #T_62262_row1_col5, #T_62262_row1_col7, #T_62262_row1_col8, #T_62262_row1_col12, #T_62262_row1_col15, #T_62262_row1_col16 {\n",
       "  background-color: #008066;\n",
       "  color: #f1f1f1;\n",
       "}\n",
       "</style>\n",
       "<table id=\"T_62262_\">\n",
       "  <thead>\n",
       "    <tr>\n",
       "      <th class=\"index_name level0\" >Initial</th>\n",
       "      <th class=\"col_heading level0 col0\" >Capt</th>\n",
       "      <th class=\"col_heading level0 col1\" >Col</th>\n",
       "      <th class=\"col_heading level0 col2\" >Countess</th>\n",
       "      <th class=\"col_heading level0 col3\" >Don</th>\n",
       "      <th class=\"col_heading level0 col4\" >Dr</th>\n",
       "      <th class=\"col_heading level0 col5\" >Jonkheer</th>\n",
       "      <th class=\"col_heading level0 col6\" >Lady</th>\n",
       "      <th class=\"col_heading level0 col7\" >Major</th>\n",
       "      <th class=\"col_heading level0 col8\" >Master</th>\n",
       "      <th class=\"col_heading level0 col9\" >Miss</th>\n",
       "      <th class=\"col_heading level0 col10\" >Mlle</th>\n",
       "      <th class=\"col_heading level0 col11\" >Mme</th>\n",
       "      <th class=\"col_heading level0 col12\" >Mr</th>\n",
       "      <th class=\"col_heading level0 col13\" >Mrs</th>\n",
       "      <th class=\"col_heading level0 col14\" >Ms</th>\n",
       "      <th class=\"col_heading level0 col15\" >Rev</th>\n",
       "      <th class=\"col_heading level0 col16\" >Sir</th>\n",
       "    </tr>\n",
       "    <tr>\n",
       "      <th class=\"index_name level0\" >Sex</th>\n",
       "      <th class=\"blank col0\" >&nbsp;</th>\n",
       "      <th class=\"blank col1\" >&nbsp;</th>\n",
       "      <th class=\"blank col2\" >&nbsp;</th>\n",
       "      <th class=\"blank col3\" >&nbsp;</th>\n",
       "      <th class=\"blank col4\" >&nbsp;</th>\n",
       "      <th class=\"blank col5\" >&nbsp;</th>\n",
       "      <th class=\"blank col6\" >&nbsp;</th>\n",
       "      <th class=\"blank col7\" >&nbsp;</th>\n",
       "      <th class=\"blank col8\" >&nbsp;</th>\n",
       "      <th class=\"blank col9\" >&nbsp;</th>\n",
       "      <th class=\"blank col10\" >&nbsp;</th>\n",
       "      <th class=\"blank col11\" >&nbsp;</th>\n",
       "      <th class=\"blank col12\" >&nbsp;</th>\n",
       "      <th class=\"blank col13\" >&nbsp;</th>\n",
       "      <th class=\"blank col14\" >&nbsp;</th>\n",
       "      <th class=\"blank col15\" >&nbsp;</th>\n",
       "      <th class=\"blank col16\" >&nbsp;</th>\n",
       "    </tr>\n",
       "  </thead>\n",
       "  <tbody>\n",
       "    <tr>\n",
       "      <th id=\"T_62262_level0_row0\" class=\"row_heading level0 row0\" >female</th>\n",
       "      <td id=\"T_62262_row0_col0\" class=\"data row0 col0\" >0</td>\n",
       "      <td id=\"T_62262_row0_col1\" class=\"data row0 col1\" >0</td>\n",
       "      <td id=\"T_62262_row0_col2\" class=\"data row0 col2\" >1</td>\n",
       "      <td id=\"T_62262_row0_col3\" class=\"data row0 col3\" >0</td>\n",
       "      <td id=\"T_62262_row0_col4\" class=\"data row0 col4\" >1</td>\n",
       "      <td id=\"T_62262_row0_col5\" class=\"data row0 col5\" >0</td>\n",
       "      <td id=\"T_62262_row0_col6\" class=\"data row0 col6\" >1</td>\n",
       "      <td id=\"T_62262_row0_col7\" class=\"data row0 col7\" >0</td>\n",
       "      <td id=\"T_62262_row0_col8\" class=\"data row0 col8\" >0</td>\n",
       "      <td id=\"T_62262_row0_col9\" class=\"data row0 col9\" >182</td>\n",
       "      <td id=\"T_62262_row0_col10\" class=\"data row0 col10\" >2</td>\n",
       "      <td id=\"T_62262_row0_col11\" class=\"data row0 col11\" >1</td>\n",
       "      <td id=\"T_62262_row0_col12\" class=\"data row0 col12\" >0</td>\n",
       "      <td id=\"T_62262_row0_col13\" class=\"data row0 col13\" >125</td>\n",
       "      <td id=\"T_62262_row0_col14\" class=\"data row0 col14\" >1</td>\n",
       "      <td id=\"T_62262_row0_col15\" class=\"data row0 col15\" >0</td>\n",
       "      <td id=\"T_62262_row0_col16\" class=\"data row0 col16\" >0</td>\n",
       "    </tr>\n",
       "    <tr>\n",
       "      <th id=\"T_62262_level0_row1\" class=\"row_heading level0 row1\" >male</th>\n",
       "      <td id=\"T_62262_row1_col0\" class=\"data row1 col0\" >1</td>\n",
       "      <td id=\"T_62262_row1_col1\" class=\"data row1 col1\" >2</td>\n",
       "      <td id=\"T_62262_row1_col2\" class=\"data row1 col2\" >0</td>\n",
       "      <td id=\"T_62262_row1_col3\" class=\"data row1 col3\" >1</td>\n",
       "      <td id=\"T_62262_row1_col4\" class=\"data row1 col4\" >6</td>\n",
       "      <td id=\"T_62262_row1_col5\" class=\"data row1 col5\" >1</td>\n",
       "      <td id=\"T_62262_row1_col6\" class=\"data row1 col6\" >0</td>\n",
       "      <td id=\"T_62262_row1_col7\" class=\"data row1 col7\" >2</td>\n",
       "      <td id=\"T_62262_row1_col8\" class=\"data row1 col8\" >40</td>\n",
       "      <td id=\"T_62262_row1_col9\" class=\"data row1 col9\" >0</td>\n",
       "      <td id=\"T_62262_row1_col10\" class=\"data row1 col10\" >0</td>\n",
       "      <td id=\"T_62262_row1_col11\" class=\"data row1 col11\" >0</td>\n",
       "      <td id=\"T_62262_row1_col12\" class=\"data row1 col12\" >517</td>\n",
       "      <td id=\"T_62262_row1_col13\" class=\"data row1 col13\" >0</td>\n",
       "      <td id=\"T_62262_row1_col14\" class=\"data row1 col14\" >0</td>\n",
       "      <td id=\"T_62262_row1_col15\" class=\"data row1 col15\" >6</td>\n",
       "      <td id=\"T_62262_row1_col16\" class=\"data row1 col16\" >1</td>\n",
       "    </tr>\n",
       "  </tbody>\n",
       "</table>\n"
      ],
      "text/plain": [
       "<pandas.io.formats.style.Styler at 0x7fe8dc747090>"
      ]
     },
     "execution_count": 14,
     "metadata": {},
     "output_type": "execute_result"
    }
   ],
   "source": [
    "pd.crosstab(data.Initial,data.Sex).T.style.background_gradient(cmap='summer_r')"
   ]
  },
  {
   "cell_type": "markdown",
   "id": "07aa8c99",
   "metadata": {
    "papermill": {
     "duration": 0.01774,
     "end_time": "2022-09-16T04:17:20.336395",
     "exception": false,
     "start_time": "2022-09-16T04:17:20.318655",
     "status": "completed"
    },
    "tags": []
   },
   "source": [
    "Okay so there are some misspelled Initials like Mlle or Mme that stand for Miss. I will replace them with Miss and same thing for other values."
   ]
  },
  {
   "cell_type": "code",
   "execution_count": 15,
   "id": "7b6a6338",
   "metadata": {
    "execution": {
     "iopub.execute_input": "2022-09-16T04:17:20.375161Z",
     "iopub.status.busy": "2022-09-16T04:17:20.374209Z",
     "iopub.status.idle": "2022-09-16T04:17:20.384257Z",
     "shell.execute_reply": "2022-09-16T04:17:20.382980Z"
    },
    "papermill": {
     "duration": 0.032873,
     "end_time": "2022-09-16T04:17:20.387344",
     "exception": false,
     "start_time": "2022-09-16T04:17:20.354471",
     "status": "completed"
    },
    "tags": []
   },
   "outputs": [],
   "source": [
    "data['Initial'].replace(['Mlle','Mme','Ms','Dr','Major','Lady','Countess','Jonkheer','Col','Rev','Capt','Sir','Don'],['Miss','Miss','Miss','Mr','Mr','Mrs','Mrs','Other','Other','Other','Mr','Mr','Mr'],inplace=True)"
   ]
  },
  {
   "cell_type": "code",
   "execution_count": 16,
   "id": "e3e06275",
   "metadata": {
    "execution": {
     "iopub.execute_input": "2022-09-16T04:17:20.427318Z",
     "iopub.status.busy": "2022-09-16T04:17:20.426643Z",
     "iopub.status.idle": "2022-09-16T04:17:20.435681Z",
     "shell.execute_reply": "2022-09-16T04:17:20.434704Z"
    },
    "papermill": {
     "duration": 0.031774,
     "end_time": "2022-09-16T04:17:20.438139",
     "exception": false,
     "start_time": "2022-09-16T04:17:20.406365",
     "status": "completed"
    },
    "tags": []
   },
   "outputs": [
    {
     "data": {
      "text/plain": [
       "Initial\n",
       "Master     4.574167\n",
       "Miss      21.860000\n",
       "Mr        32.739609\n",
       "Mrs       35.981818\n",
       "Other     45.888889\n",
       "Name: Age, dtype: float64"
      ]
     },
     "execution_count": 16,
     "metadata": {},
     "output_type": "execute_result"
    }
   ],
   "source": [
    "data.groupby('Initial')['Age'].mean() #lets check the average age by Initials"
   ]
  },
  {
   "cell_type": "markdown",
   "id": "5178144a",
   "metadata": {
    "papermill": {
     "duration": 0.017772,
     "end_time": "2022-09-16T04:17:20.474129",
     "exception": false,
     "start_time": "2022-09-16T04:17:20.456357",
     "status": "completed"
    },
    "tags": []
   },
   "source": [
    "## Filling NaN Ages"
   ]
  },
  {
   "cell_type": "code",
   "execution_count": 17,
   "id": "4fc49a6e",
   "metadata": {
    "execution": {
     "iopub.execute_input": "2022-09-16T04:17:20.512588Z",
     "iopub.status.busy": "2022-09-16T04:17:20.512154Z",
     "iopub.status.idle": "2022-09-16T04:17:20.525771Z",
     "shell.execute_reply": "2022-09-16T04:17:20.524864Z"
    },
    "papermill": {
     "duration": 0.036117,
     "end_time": "2022-09-16T04:17:20.528568",
     "exception": false,
     "start_time": "2022-09-16T04:17:20.492451",
     "status": "completed"
    },
    "tags": []
   },
   "outputs": [],
   "source": [
    "## Assigning the NaN Values with the Ceil values of the mean ages\n",
    "\n",
    "data.loc[(data.Age.isnull())&(data.Initial=='Mr'),'Age']=33\n",
    "data.loc[(data.Age.isnull())&(data.Initial=='Mrs'),'Age']=36\n",
    "data.loc[(data.Age.isnull())&(data.Initial=='Master'),'Age']=5\n",
    "data.loc[(data.Age.isnull())&(data.Initial=='Miss'),'Age']=22\n",
    "data.loc[(data.Age.isnull())&(data.Initial=='Other'),'Age']=46"
   ]
  },
  {
   "cell_type": "code",
   "execution_count": 18,
   "id": "fd064019",
   "metadata": {
    "execution": {
     "iopub.execute_input": "2022-09-16T04:17:20.567972Z",
     "iopub.status.busy": "2022-09-16T04:17:20.566605Z",
     "iopub.status.idle": "2022-09-16T04:17:20.575012Z",
     "shell.execute_reply": "2022-09-16T04:17:20.573770Z"
    },
    "papermill": {
     "duration": 0.030643,
     "end_time": "2022-09-16T04:17:20.577704",
     "exception": false,
     "start_time": "2022-09-16T04:17:20.547061",
     "status": "completed"
    },
    "tags": []
   },
   "outputs": [
    {
     "data": {
      "text/plain": [
       "False"
      ]
     },
     "execution_count": 18,
     "metadata": {},
     "output_type": "execute_result"
    }
   ],
   "source": [
    "data.Age.isnull().any() #So no null values left finally "
   ]
  },
  {
   "cell_type": "code",
   "execution_count": 19,
   "id": "479d3849",
   "metadata": {
    "execution": {
     "iopub.execute_input": "2022-09-16T04:17:20.616433Z",
     "iopub.status.busy": "2022-09-16T04:17:20.615999Z",
     "iopub.status.idle": "2022-09-16T04:17:21.117155Z",
     "shell.execute_reply": "2022-09-16T04:17:21.115970Z"
    },
    "papermill": {
     "duration": 0.523615,
     "end_time": "2022-09-16T04:17:21.119691",
     "exception": false,
     "start_time": "2022-09-16T04:17:20.596076",
     "status": "completed"
    },
    "tags": []
   },
   "outputs": [
    {
     "data": {
      "image/png": "[encoded data removed]",
      "text/plain": [
       "<Figure size 1440x720 with 2 Axes>"
      ]
     },
     "metadata": {
      "needs_background": "light"
     },
     "output_type": "display_data"
    }
   ],
   "source": [
    "f,ax=plt.subplots(1,2,figsize=(20,10))\n",
    "data[data['Survived']==0].Age.plot.hist(ax=ax[0],bins=20,edgecolor='black',color='red')\n",
    "ax[0].set_title('Survived= 0')\n",
    "ax[0].set_xticks(list(range(0,85,5)))\n",
    "data[data['Survived']==1].Age.plot.hist(ax=ax[1],color='green',bins=20,edgecolor='black')\n",
    "ax[1].set_title('Survived= 1')\n",
    "ax[1].set_xticks(list(range(0,85,5)))\n",
    "plt.show()"
   ]
  },
  {
   "cell_type": "markdown",
   "id": "70227c0a",
   "metadata": {
    "papermill": {
     "duration": 0.018462,
     "end_time": "2022-09-16T04:17:21.157120",
     "exception": false,
     "start_time": "2022-09-16T04:17:21.138658",
     "status": "completed"
    },
    "tags": []
   },
   "source": [
    "### Observations:\n",
    "1)The Toddlers(age<5) were saved in large numbers(The Women and Child First Policy).\n",
    "\n",
    "2)The oldest Passenger was saved(80 years).\n",
    "\n",
    "3)Maximum number of deaths were in the age group of 30-40."
   ]
  },
  {
   "cell_type": "code",
   "execution_count": 20,
   "id": "ebb04772",
   "metadata": {
    "execution": {
     "iopub.execute_input": "2022-09-16T04:17:21.197686Z",
     "iopub.status.busy": "2022-09-16T04:17:21.196933Z",
     "iopub.status.idle": "2022-09-16T04:17:22.083656Z",
     "shell.execute_reply": "2022-09-16T04:17:22.082316Z"
    },
    "papermill": {
     "duration": 0.909945,
     "end_time": "2022-09-16T04:17:22.086378",
     "exception": false,
     "start_time": "2022-09-16T04:17:21.176433",
     "status": "completed"
    },
    "tags": []
   },
   "outputs": [
    {
     "data": {
      "image/png": "[encoded data removed]",
      "text/plain": [
       "<Figure size 430.125x360 with 1 Axes>"
      ]
     },
     "metadata": {
      "needs_background": "light"
     },
     "output_type": "display_data"
    }
   ],
   "source": [
    "sns.factorplot('Pclass','Survived',hue='Initial',data=data)\n",
    "plt.show()"
   ]
  },
  {
   "cell_type": "code",
   "execution_count": 21,
   "id": "52fe9847",
   "metadata": {
    "execution": {
     "iopub.execute_input": "2022-09-16T04:17:22.127116Z",
     "iopub.status.busy": "2022-09-16T04:17:22.126686Z",
     "iopub.status.idle": "2022-09-16T04:17:23.382106Z",
     "shell.execute_reply": "2022-09-16T04:17:23.380765Z"
    },
    "papermill": {
     "duration": 1.279129,
     "end_time": "2022-09-16T04:17:23.385078",
     "exception": false,
     "start_time": "2022-09-16T04:17:22.105949",
     "status": "completed"
    },
    "tags": []
   },
   "outputs": [
    {
     "data": {
      "image/png": "[encoded data removed]",
      "text/plain": [
       "<Figure size 1800x360 with 5 Axes>"
      ]
     },
     "metadata": {
      "needs_background": "light"
     },
     "output_type": "display_data"
    }
   ],
   "source": [
    "sns.factorplot('Pclass','Survived',col='Initial',data=data)\n",
    "plt.show()"
   ]
  },
  {
   "cell_type": "markdown",
   "id": "c8c48362",
   "metadata": {
    "papermill": {
     "duration": 0.01962,
     "end_time": "2022-09-16T04:17:23.425875",
     "exception": false,
     "start_time": "2022-09-16T04:17:23.406255",
     "status": "completed"
    },
    "tags": []
   },
   "source": [
    "The Women and Child first policy thus holds true irrespective of the class"
   ]
  },
  {
   "cell_type": "markdown",
   "id": "68725892",
   "metadata": {
    "papermill": {
     "duration": 0.019514,
     "end_time": "2022-09-16T04:17:23.465386",
     "exception": false,
     "start_time": "2022-09-16T04:17:23.445872",
     "status": "completed"
    },
    "tags": []
   },
   "source": [
    "## Embarked --> Categorical Value"
   ]
  },
  {
   "cell_type": "code",
   "execution_count": 22,
   "id": "0e3b3d66",
   "metadata": {
    "execution": {
     "iopub.execute_input": "2022-09-16T04:17:23.508379Z",
     "iopub.status.busy": "2022-09-16T04:17:23.507612Z",
     "iopub.status.idle": "2022-09-16T04:17:23.554668Z",
     "shell.execute_reply": "2022-09-16T04:17:23.553456Z"
    },
    "papermill": {
     "duration": 0.071273,
     "end_time": "2022-09-16T04:17:23.557265",
     "exception": false,
     "start_time": "2022-09-16T04:17:23.485992",
     "status": "completed"
    },
    "tags": []
   },
   "outputs": [
    {
     "data": {
      "text/html": [
       "<style type=\"text/css\">\n",
       "#T_0ea6e_row0_col0, #T_0ea6e_row4_col1 {\n",
       "  background-color: #fbfd66;\n",
       "  color: #000000;\n",
       "}\n",
       "#T_0ea6e_row0_col1 {\n",
       "  background-color: #51a866;\n",
       "  color: #f1f1f1;\n",
       "}\n",
       "#T_0ea6e_row0_col2 {\n",
       "  background-color: #e5f266;\n",
       "  color: #000000;\n",
       "}\n",
       "#T_0ea6e_row0_col3 {\n",
       "  background-color: #7fbf66;\n",
       "  color: #000000;\n",
       "}\n",
       "#T_0ea6e_row1_col0, #T_0ea6e_row3_col0, #T_0ea6e_row3_col1, #T_0ea6e_row3_col2, #T_0ea6e_row3_col3, #T_0ea6e_row4_col0, #T_0ea6e_row4_col2, #T_0ea6e_row4_col3 {\n",
       "  background-color: #ffff66;\n",
       "  color: #000000;\n",
       "}\n",
       "#T_0ea6e_row1_col1 {\n",
       "  background-color: #e6f266;\n",
       "  color: #000000;\n",
       "}\n",
       "#T_0ea6e_row1_col2 {\n",
       "  background-color: #f8fc66;\n",
       "  color: #000000;\n",
       "}\n",
       "#T_0ea6e_row1_col3 {\n",
       "  background-color: #f0f866;\n",
       "  color: #000000;\n",
       "}\n",
       "#T_0ea6e_row2_col0 {\n",
       "  background-color: #daec66;\n",
       "  color: #000000;\n",
       "}\n",
       "#T_0ea6e_row2_col1 {\n",
       "  background-color: #c4e266;\n",
       "  color: #000000;\n",
       "}\n",
       "#T_0ea6e_row2_col2 {\n",
       "  background-color: #dcee66;\n",
       "  color: #000000;\n",
       "}\n",
       "#T_0ea6e_row2_col3 {\n",
       "  background-color: #b4da66;\n",
       "  color: #000000;\n",
       "}\n",
       "#T_0ea6e_row5_col0 {\n",
       "  background-color: #d6eb66;\n",
       "  color: #000000;\n",
       "}\n",
       "#T_0ea6e_row5_col1 {\n",
       "  background-color: #9dce66;\n",
       "  color: #000000;\n",
       "}\n",
       "#T_0ea6e_row5_col2 {\n",
       "  background-color: #d9ec66;\n",
       "  color: #000000;\n",
       "}\n",
       "#T_0ea6e_row5_col3 {\n",
       "  background-color: #e9f466;\n",
       "  color: #000000;\n",
       "}\n",
       "#T_0ea6e_row6_col0 {\n",
       "  background-color: #f6fa66;\n",
       "  color: #000000;\n",
       "}\n",
       "#T_0ea6e_row6_col1 {\n",
       "  background-color: #3f9f66;\n",
       "  color: #f1f1f1;\n",
       "}\n",
       "#T_0ea6e_row6_col2 {\n",
       "  background-color: #c8e366;\n",
       "  color: #000000;\n",
       "}\n",
       "#T_0ea6e_row6_col3 {\n",
       "  background-color: #2d9666;\n",
       "  color: #f1f1f1;\n",
       "}\n",
       "#T_0ea6e_row7_col0 {\n",
       "  background-color: #e4f266;\n",
       "  color: #000000;\n",
       "}\n",
       "#T_0ea6e_row7_col1, #T_0ea6e_row8_col0, #T_0ea6e_row8_col2, #T_0ea6e_row8_col3 {\n",
       "  background-color: #008066;\n",
       "  color: #f1f1f1;\n",
       "}\n",
       "#T_0ea6e_row7_col2 {\n",
       "  background-color: #a5d266;\n",
       "  color: #000000;\n",
       "}\n",
       "#T_0ea6e_row7_col3 {\n",
       "  background-color: #8fc766;\n",
       "  color: #000000;\n",
       "}\n",
       "#T_0ea6e_row8_col1 {\n",
       "  background-color: #77bb66;\n",
       "  color: #f1f1f1;\n",
       "}\n",
       "</style>\n",
       "<table id=\"T_0ea6e_\">\n",
       "  <thead>\n",
       "    <tr>\n",
       "      <th class=\"blank\" >&nbsp;</th>\n",
       "      <th class=\"index_name level0\" >Sex</th>\n",
       "      <th class=\"col_heading level0 col0\" colspan=\"2\">female</th>\n",
       "      <th class=\"col_heading level0 col2\" colspan=\"2\">male</th>\n",
       "    </tr>\n",
       "    <tr>\n",
       "      <th class=\"blank\" >&nbsp;</th>\n",
       "      <th class=\"index_name level1\" >Survived</th>\n",
       "      <th class=\"col_heading level1 col0\" >0</th>\n",
       "      <th class=\"col_heading level1 col1\" >1</th>\n",
       "      <th class=\"col_heading level1 col2\" >0</th>\n",
       "      <th class=\"col_heading level1 col3\" >1</th>\n",
       "    </tr>\n",
       "    <tr>\n",
       "      <th class=\"index_name level0\" >Embarked</th>\n",
       "      <th class=\"index_name level1\" >Pclass</th>\n",
       "      <th class=\"blank col0\" >&nbsp;</th>\n",
       "      <th class=\"blank col1\" >&nbsp;</th>\n",
       "      <th class=\"blank col2\" >&nbsp;</th>\n",
       "      <th class=\"blank col3\" >&nbsp;</th>\n",
       "    </tr>\n",
       "  </thead>\n",
       "  <tbody>\n",
       "    <tr>\n",
       "      <th id=\"T_0ea6e_level0_row0\" class=\"row_heading level0 row0\" rowspan=\"3\">C</th>\n",
       "      <th id=\"T_0ea6e_level1_row0\" class=\"row_heading level1 row0\" >1</th>\n",
       "      <td id=\"T_0ea6e_row0_col0\" class=\"data row0 col0\" >1</td>\n",
       "      <td id=\"T_0ea6e_row0_col1\" class=\"data row0 col1\" >42</td>\n",
       "      <td id=\"T_0ea6e_row0_col2\" class=\"data row0 col2\" >25</td>\n",
       "      <td id=\"T_0ea6e_row0_col3\" class=\"data row0 col3\" >17</td>\n",
       "    </tr>\n",
       "    <tr>\n",
       "      <th id=\"T_0ea6e_level1_row1\" class=\"row_heading level1 row1\" >2</th>\n",
       "      <td id=\"T_0ea6e_row1_col0\" class=\"data row1 col0\" >0</td>\n",
       "      <td id=\"T_0ea6e_row1_col1\" class=\"data row1 col1\" >7</td>\n",
       "      <td id=\"T_0ea6e_row1_col2\" class=\"data row1 col2\" >8</td>\n",
       "      <td id=\"T_0ea6e_row1_col3\" class=\"data row1 col3\" >2</td>\n",
       "    </tr>\n",
       "    <tr>\n",
       "      <th id=\"T_0ea6e_level1_row2\" class=\"row_heading level1 row2\" >3</th>\n",
       "      <td id=\"T_0ea6e_row2_col0\" class=\"data row2 col0\" >8</td>\n",
       "      <td id=\"T_0ea6e_row2_col1\" class=\"data row2 col1\" >15</td>\n",
       "      <td id=\"T_0ea6e_row2_col2\" class=\"data row2 col2\" >33</td>\n",
       "      <td id=\"T_0ea6e_row2_col3\" class=\"data row2 col3\" >10</td>\n",
       "    </tr>\n",
       "    <tr>\n",
       "      <th id=\"T_0ea6e_level0_row3\" class=\"row_heading level0 row3\" rowspan=\"3\">Q</th>\n",
       "      <th id=\"T_0ea6e_level1_row3\" class=\"row_heading level1 row3\" >1</th>\n",
       "      <td id=\"T_0ea6e_row3_col0\" class=\"data row3 col0\" >0</td>\n",
       "      <td id=\"T_0ea6e_row3_col1\" class=\"data row3 col1\" >1</td>\n",
       "      <td id=\"T_0ea6e_row3_col2\" class=\"data row3 col2\" >1</td>\n",
       "      <td id=\"T_0ea6e_row3_col3\" class=\"data row3 col3\" >0</td>\n",
       "    </tr>\n",
       "    <tr>\n",
       "      <th id=\"T_0ea6e_level1_row4\" class=\"row_heading level1 row4\" >2</th>\n",
       "      <td id=\"T_0ea6e_row4_col0\" class=\"data row4 col0\" >0</td>\n",
       "      <td id=\"T_0ea6e_row4_col1\" class=\"data row4 col1\" >2</td>\n",
       "      <td id=\"T_0ea6e_row4_col2\" class=\"data row4 col2\" >1</td>\n",
       "      <td id=\"T_0ea6e_row4_col3\" class=\"data row4 col3\" >0</td>\n",
       "    </tr>\n",
       "    <tr>\n",
       "      <th id=\"T_0ea6e_level1_row5\" class=\"row_heading level1 row5\" >3</th>\n",
       "      <td id=\"T_0ea6e_row5_col0\" class=\"data row5 col0\" >9</td>\n",
       "      <td id=\"T_0ea6e_row5_col1\" class=\"data row5 col1\" >24</td>\n",
       "      <td id=\"T_0ea6e_row5_col2\" class=\"data row5 col2\" >36</td>\n",
       "      <td id=\"T_0ea6e_row5_col3\" class=\"data row5 col3\" >3</td>\n",
       "    </tr>\n",
       "    <tr>\n",
       "      <th id=\"T_0ea6e_level0_row6\" class=\"row_heading level0 row6\" rowspan=\"3\">S</th>\n",
       "      <th id=\"T_0ea6e_level1_row6\" class=\"row_heading level1 row6\" >1</th>\n",
       "      <td id=\"T_0ea6e_row6_col0\" class=\"data row6 col0\" >2</td>\n",
       "      <td id=\"T_0ea6e_row6_col1\" class=\"data row6 col1\" >46</td>\n",
       "      <td id=\"T_0ea6e_row6_col2\" class=\"data row6 col2\" >51</td>\n",
       "      <td id=\"T_0ea6e_row6_col3\" class=\"data row6 col3\" >28</td>\n",
       "    </tr>\n",
       "    <tr>\n",
       "      <th id=\"T_0ea6e_level1_row7\" class=\"row_heading level1 row7\" >2</th>\n",
       "      <td id=\"T_0ea6e_row7_col0\" class=\"data row7 col0\" >6</td>\n",
       "      <td id=\"T_0ea6e_row7_col1\" class=\"data row7 col1\" >61</td>\n",
       "      <td id=\"T_0ea6e_row7_col2\" class=\"data row7 col2\" >82</td>\n",
       "      <td id=\"T_0ea6e_row7_col3\" class=\"data row7 col3\" >15</td>\n",
       "    </tr>\n",
       "    <tr>\n",
       "      <th id=\"T_0ea6e_level1_row8\" class=\"row_heading level1 row8\" >3</th>\n",
       "      <td id=\"T_0ea6e_row8_col0\" class=\"data row8 col0\" >55</td>\n",
       "      <td id=\"T_0ea6e_row8_col1\" class=\"data row8 col1\" >33</td>\n",
       "      <td id=\"T_0ea6e_row8_col2\" class=\"data row8 col2\" >231</td>\n",
       "      <td id=\"T_0ea6e_row8_col3\" class=\"data row8 col3\" >34</td>\n",
       "    </tr>\n",
       "  </tbody>\n",
       "</table>\n"
      ],
      "text/plain": [
       "<pandas.io.formats.style.Styler at 0x7fe8dc596ed0>"
      ]
     },
     "execution_count": 22,
     "metadata": {},
     "output_type": "execute_result"
    }
   ],
   "source": [
    "pd.crosstab([data.Embarked,data.Pclass],[data.Sex,data.Survived],margins=False).style.background_gradient(cmap='summer_r')"
   ]
  },
  {
   "cell_type": "code",
   "execution_count": 23,
   "id": "be82c85a",
   "metadata": {
    "execution": {
     "iopub.execute_input": "2022-09-16T04:17:23.599511Z",
     "iopub.status.busy": "2022-09-16T04:17:23.599101Z",
     "iopub.status.idle": "2022-09-16T04:17:23.675445Z",
     "shell.execute_reply": "2022-09-16T04:17:23.674560Z"
    },
    "papermill": {
     "duration": 0.100266,
     "end_time": "2022-09-16T04:17:23.677754",
     "exception": false,
     "start_time": "2022-09-16T04:17:23.577488",
     "status": "completed"
    },
    "tags": []
   },
   "outputs": [
    {
     "data": {
      "text/html": [
       "<style type=\"text/css\">\n",
       "#T_44ff6_row0_col0, #T_44ff6_row1_col2 {\n",
       "  background-color: #fcfe66;\n",
       "  color: #000000;\n",
       "}\n",
       "#T_44ff6_row0_col1 {\n",
       "  background-color: #d2e866;\n",
       "  color: #000000;\n",
       "}\n",
       "#T_44ff6_row0_col2 {\n",
       "  background-color: #f2f866;\n",
       "  color: #000000;\n",
       "}\n",
       "#T_44ff6_row0_col3 {\n",
       "  background-color: #d8ec66;\n",
       "  color: #000000;\n",
       "}\n",
       "#T_44ff6_row0_col4, #T_44ff6_row2_col3 {\n",
       "  background-color: #e8f466;\n",
       "  color: #000000;\n",
       "}\n",
       "#T_44ff6_row1_col0, #T_44ff6_row3_col0, #T_44ff6_row3_col1, #T_44ff6_row3_col2, #T_44ff6_row3_col3, #T_44ff6_row3_col4, #T_44ff6_row4_col0, #T_44ff6_row4_col2, #T_44ff6_row4_col3, #T_44ff6_row4_col4 {\n",
       "  background-color: #ffff66;\n",
       "  color: #000000;\n",
       "}\n",
       "#T_44ff6_row1_col1, #T_44ff6_row6_col0 {\n",
       "  background-color: #f9fc66;\n",
       "  color: #000000;\n",
       "}\n",
       "#T_44ff6_row1_col3, #T_44ff6_row1_col4 {\n",
       "  background-color: #fbfd66;\n",
       "  color: #000000;\n",
       "}\n",
       "#T_44ff6_row2_col0, #T_44ff6_row5_col1 {\n",
       "  background-color: #e6f266;\n",
       "  color: #000000;\n",
       "}\n",
       "#T_44ff6_row2_col1 {\n",
       "  background-color: #f0f866;\n",
       "  color: #000000;\n",
       "}\n",
       "#T_44ff6_row2_col2 {\n",
       "  background-color: #eef666;\n",
       "  color: #000000;\n",
       "}\n",
       "#T_44ff6_row2_col4, #T_44ff6_row7_col0 {\n",
       "  background-color: #edf666;\n",
       "  color: #000000;\n",
       "}\n",
       "#T_44ff6_row4_col1 {\n",
       "  background-color: #fefe66;\n",
       "  color: #000000;\n",
       "}\n",
       "#T_44ff6_row5_col0 {\n",
       "  background-color: #e3f166;\n",
       "  color: #000000;\n",
       "}\n",
       "#T_44ff6_row5_col2 {\n",
       "  background-color: #ecf666;\n",
       "  color: #000000;\n",
       "}\n",
       "#T_44ff6_row5_col3 {\n",
       "  background-color: #f8fc66;\n",
       "  color: #000000;\n",
       "}\n",
       "#T_44ff6_row5_col4 {\n",
       "  background-color: #ebf566;\n",
       "  color: #000000;\n",
       "}\n",
       "#T_44ff6_row6_col1 {\n",
       "  background-color: #cde666;\n",
       "  color: #000000;\n",
       "}\n",
       "#T_44ff6_row6_col2 {\n",
       "  background-color: #e4f266;\n",
       "  color: #000000;\n",
       "}\n",
       "#T_44ff6_row6_col3 {\n",
       "  background-color: #bede66;\n",
       "  color: #000000;\n",
       "}\n",
       "#T_44ff6_row6_col4 {\n",
       "  background-color: #dbed66;\n",
       "  color: #000000;\n",
       "}\n",
       "#T_44ff6_row7_col1 {\n",
       "  background-color: #bdde66;\n",
       "  color: #000000;\n",
       "}\n",
       "#T_44ff6_row7_col2 {\n",
       "  background-color: #d3e966;\n",
       "  color: #000000;\n",
       "}\n",
       "#T_44ff6_row7_col3, #T_44ff6_row8_col1 {\n",
       "  background-color: #dcee66;\n",
       "  color: #000000;\n",
       "}\n",
       "#T_44ff6_row7_col4 {\n",
       "  background-color: #d1e866;\n",
       "  color: #000000;\n",
       "}\n",
       "#T_44ff6_row8_col0 {\n",
       "  background-color: #52a866;\n",
       "  color: #f1f1f1;\n",
       "}\n",
       "#T_44ff6_row8_col2 {\n",
       "  background-color: #81c066;\n",
       "  color: #000000;\n",
       "}\n",
       "#T_44ff6_row8_col3 {\n",
       "  background-color: #b0d866;\n",
       "  color: #000000;\n",
       "}\n",
       "#T_44ff6_row8_col4 {\n",
       "  background-color: #9acc66;\n",
       "  color: #000000;\n",
       "}\n",
       "#T_44ff6_row9_col0, #T_44ff6_row9_col1, #T_44ff6_row9_col2, #T_44ff6_row9_col3, #T_44ff6_row9_col4 {\n",
       "  background-color: #008066;\n",
       "  color: #f1f1f1;\n",
       "}\n",
       "</style>\n",
       "<table id=\"T_44ff6_\">\n",
       "  <thead>\n",
       "    <tr>\n",
       "      <th class=\"blank\" >&nbsp;</th>\n",
       "      <th class=\"index_name level0\" >Sex</th>\n",
       "      <th class=\"col_heading level0 col0\" colspan=\"2\">female</th>\n",
       "      <th class=\"col_heading level0 col2\" colspan=\"2\">male</th>\n",
       "      <th class=\"col_heading level0 col4\" >All</th>\n",
       "    </tr>\n",
       "    <tr>\n",
       "      <th class=\"blank\" >&nbsp;</th>\n",
       "      <th class=\"index_name level1\" >Survived</th>\n",
       "      <th class=\"col_heading level1 col0\" >0</th>\n",
       "      <th class=\"col_heading level1 col1\" >1</th>\n",
       "      <th class=\"col_heading level1 col2\" >0</th>\n",
       "      <th class=\"col_heading level1 col3\" >1</th>\n",
       "      <th class=\"col_heading level1 col4\" ></th>\n",
       "    </tr>\n",
       "    <tr>\n",
       "      <th class=\"index_name level0\" >Embarked</th>\n",
       "      <th class=\"index_name level1\" >Pclass</th>\n",
       "      <th class=\"blank col0\" >&nbsp;</th>\n",
       "      <th class=\"blank col1\" >&nbsp;</th>\n",
       "      <th class=\"blank col2\" >&nbsp;</th>\n",
       "      <th class=\"blank col3\" >&nbsp;</th>\n",
       "      <th class=\"blank col4\" >&nbsp;</th>\n",
       "    </tr>\n",
       "  </thead>\n",
       "  <tbody>\n",
       "    <tr>\n",
       "      <th id=\"T_44ff6_level0_row0\" class=\"row_heading level0 row0\" rowspan=\"3\">C</th>\n",
       "      <th id=\"T_44ff6_level1_row0\" class=\"row_heading level1 row0\" >1</th>\n",
       "      <td id=\"T_44ff6_row0_col0\" class=\"data row0 col0\" >1</td>\n",
       "      <td id=\"T_44ff6_row0_col1\" class=\"data row0 col1\" >42</td>\n",
       "      <td id=\"T_44ff6_row0_col2\" class=\"data row0 col2\" >25</td>\n",
       "      <td id=\"T_44ff6_row0_col3\" class=\"data row0 col3\" >17</td>\n",
       "      <td id=\"T_44ff6_row0_col4\" class=\"data row0 col4\" >85</td>\n",
       "    </tr>\n",
       "    <tr>\n",
       "      <th id=\"T_44ff6_level1_row1\" class=\"row_heading level1 row1\" >2</th>\n",
       "      <td id=\"T_44ff6_row1_col0\" class=\"data row1 col0\" >0</td>\n",
       "      <td id=\"T_44ff6_row1_col1\" class=\"data row1 col1\" >7</td>\n",
       "      <td id=\"T_44ff6_row1_col2\" class=\"data row1 col2\" >8</td>\n",
       "      <td id=\"T_44ff6_row1_col3\" class=\"data row1 col3\" >2</td>\n",
       "      <td id=\"T_44ff6_row1_col4\" class=\"data row1 col4\" >17</td>\n",
       "    </tr>\n",
       "    <tr>\n",
       "      <th id=\"T_44ff6_level1_row2\" class=\"row_heading level1 row2\" >3</th>\n",
       "      <td id=\"T_44ff6_row2_col0\" class=\"data row2 col0\" >8</td>\n",
       "      <td id=\"T_44ff6_row2_col1\" class=\"data row2 col1\" >15</td>\n",
       "      <td id=\"T_44ff6_row2_col2\" class=\"data row2 col2\" >33</td>\n",
       "      <td id=\"T_44ff6_row2_col3\" class=\"data row2 col3\" >10</td>\n",
       "      <td id=\"T_44ff6_row2_col4\" class=\"data row2 col4\" >66</td>\n",
       "    </tr>\n",
       "    <tr>\n",
       "      <th id=\"T_44ff6_level0_row3\" class=\"row_heading level0 row3\" rowspan=\"3\">Q</th>\n",
       "      <th id=\"T_44ff6_level1_row3\" class=\"row_heading level1 row3\" >1</th>\n",
       "      <td id=\"T_44ff6_row3_col0\" class=\"data row3 col0\" >0</td>\n",
       "      <td id=\"T_44ff6_row3_col1\" class=\"data row3 col1\" >1</td>\n",
       "      <td id=\"T_44ff6_row3_col2\" class=\"data row3 col2\" >1</td>\n",
       "      <td id=\"T_44ff6_row3_col3\" class=\"data row3 col3\" >0</td>\n",
       "      <td id=\"T_44ff6_row3_col4\" class=\"data row3 col4\" >2</td>\n",
       "    </tr>\n",
       "    <tr>\n",
       "      <th id=\"T_44ff6_level1_row4\" class=\"row_heading level1 row4\" >2</th>\n",
       "      <td id=\"T_44ff6_row4_col0\" class=\"data row4 col0\" >0</td>\n",
       "      <td id=\"T_44ff6_row4_col1\" class=\"data row4 col1\" >2</td>\n",
       "      <td id=\"T_44ff6_row4_col2\" class=\"data row4 col2\" >1</td>\n",
       "      <td id=\"T_44ff6_row4_col3\" class=\"data row4 col3\" >0</td>\n",
       "      <td id=\"T_44ff6_row4_col4\" class=\"data row4 col4\" >3</td>\n",
       "    </tr>\n",
       "    <tr>\n",
       "      <th id=\"T_44ff6_level1_row5\" class=\"row_heading level1 row5\" >3</th>\n",
       "      <td id=\"T_44ff6_row5_col0\" class=\"data row5 col0\" >9</td>\n",
       "      <td id=\"T_44ff6_row5_col1\" class=\"data row5 col1\" >24</td>\n",
       "      <td id=\"T_44ff6_row5_col2\" class=\"data row5 col2\" >36</td>\n",
       "      <td id=\"T_44ff6_row5_col3\" class=\"data row5 col3\" >3</td>\n",
       "      <td id=\"T_44ff6_row5_col4\" class=\"data row5 col4\" >72</td>\n",
       "    </tr>\n",
       "    <tr>\n",
       "      <th id=\"T_44ff6_level0_row6\" class=\"row_heading level0 row6\" rowspan=\"3\">S</th>\n",
       "      <th id=\"T_44ff6_level1_row6\" class=\"row_heading level1 row6\" >1</th>\n",
       "      <td id=\"T_44ff6_row6_col0\" class=\"data row6 col0\" >2</td>\n",
       "      <td id=\"T_44ff6_row6_col1\" class=\"data row6 col1\" >46</td>\n",
       "      <td id=\"T_44ff6_row6_col2\" class=\"data row6 col2\" >51</td>\n",
       "      <td id=\"T_44ff6_row6_col3\" class=\"data row6 col3\" >28</td>\n",
       "      <td id=\"T_44ff6_row6_col4\" class=\"data row6 col4\" >127</td>\n",
       "    </tr>\n",
       "    <tr>\n",
       "      <th id=\"T_44ff6_level1_row7\" class=\"row_heading level1 row7\" >2</th>\n",
       "      <td id=\"T_44ff6_row7_col0\" class=\"data row7 col0\" >6</td>\n",
       "      <td id=\"T_44ff6_row7_col1\" class=\"data row7 col1\" >61</td>\n",
       "      <td id=\"T_44ff6_row7_col2\" class=\"data row7 col2\" >82</td>\n",
       "      <td id=\"T_44ff6_row7_col3\" class=\"data row7 col3\" >15</td>\n",
       "      <td id=\"T_44ff6_row7_col4\" class=\"data row7 col4\" >164</td>\n",
       "    </tr>\n",
       "    <tr>\n",
       "      <th id=\"T_44ff6_level1_row8\" class=\"row_heading level1 row8\" >3</th>\n",
       "      <td id=\"T_44ff6_row8_col0\" class=\"data row8 col0\" >55</td>\n",
       "      <td id=\"T_44ff6_row8_col1\" class=\"data row8 col1\" >33</td>\n",
       "      <td id=\"T_44ff6_row8_col2\" class=\"data row8 col2\" >231</td>\n",
       "      <td id=\"T_44ff6_row8_col3\" class=\"data row8 col3\" >34</td>\n",
       "      <td id=\"T_44ff6_row8_col4\" class=\"data row8 col4\" >353</td>\n",
       "    </tr>\n",
       "    <tr>\n",
       "      <th id=\"T_44ff6_level0_row9\" class=\"row_heading level0 row9\" >All</th>\n",
       "      <th id=\"T_44ff6_level1_row9\" class=\"row_heading level1 row9\" ></th>\n",
       "      <td id=\"T_44ff6_row9_col0\" class=\"data row9 col0\" >81</td>\n",
       "      <td id=\"T_44ff6_row9_col1\" class=\"data row9 col1\" >231</td>\n",
       "      <td id=\"T_44ff6_row9_col2\" class=\"data row9 col2\" >468</td>\n",
       "      <td id=\"T_44ff6_row9_col3\" class=\"data row9 col3\" >109</td>\n",
       "      <td id=\"T_44ff6_row9_col4\" class=\"data row9 col4\" >889</td>\n",
       "    </tr>\n",
       "  </tbody>\n",
       "</table>\n"
      ],
      "text/plain": [
       "<pandas.io.formats.style.Styler at 0x7fe8dc5e6810>"
      ]
     },
     "execution_count": 23,
     "metadata": {},
     "output_type": "execute_result"
    }
   ],
   "source": [
    "pd.crosstab([data.Embarked,data.Pclass],[data.Sex,data.Survived],margins=True).style.background_gradient(cmap='summer_r')"
   ]
  },
  {
   "cell_type": "markdown",
   "id": "68578877",
   "metadata": {
    "papermill": {
     "duration": 0.020482,
     "end_time": "2022-09-16T04:17:23.719148",
     "exception": false,
     "start_time": "2022-09-16T04:17:23.698666",
     "status": "completed"
    },
    "tags": []
   },
   "source": [
    "## Chances for Survival by Port Of Embarkation"
   ]
  },
  {
   "cell_type": "code",
   "execution_count": 24,
   "id": "f2e85252",
   "metadata": {
    "execution": {
     "iopub.execute_input": "2022-09-16T04:17:23.763609Z",
     "iopub.status.busy": "2022-09-16T04:17:23.762395Z",
     "iopub.status.idle": "2022-09-16T04:17:24.093649Z",
     "shell.execute_reply": "2022-09-16T04:17:24.092434Z"
    },
    "papermill": {
     "duration": 0.356562,
     "end_time": "2022-09-16T04:17:24.096611",
     "exception": false,
     "start_time": "2022-09-16T04:17:23.740049",
     "status": "completed"
    },
    "tags": []
   },
   "outputs": [
    {
     "data": {
      "image/png": "[encoded data removed]",
      "text/plain": [
       "<Figure size 360x216 with 1 Axes>"
      ]
     },
     "metadata": {
      "needs_background": "light"
     },
     "output_type": "display_data"
    }
   ],
   "source": [
    "sns.factorplot('Embarked','Survived',data=data)\n",
    "fig=plt.gcf()\n",
    "fig.set_size_inches(5,3)\n",
    "plt.show()"
   ]
  },
  {
   "cell_type": "markdown",
   "id": "9e2844f7",
   "metadata": {
    "papermill": {
     "duration": 0.021694,
     "end_time": "2022-09-16T04:17:24.140087",
     "exception": false,
     "start_time": "2022-09-16T04:17:24.118393",
     "status": "completed"
    },
    "tags": []
   },
   "source": [
    "The chances for survival for Port C is highest aroun 0.55 while it is lowest for S."
   ]
  },
  {
   "cell_type": "code",
   "execution_count": 25,
   "id": "4c2c6896",
   "metadata": {
    "execution": {
     "iopub.execute_input": "2022-09-16T04:17:24.184435Z",
     "iopub.status.busy": "2022-09-16T04:17:24.183990Z",
     "iopub.status.idle": "2022-09-16T04:17:24.810793Z",
     "shell.execute_reply": "2022-09-16T04:17:24.809785Z"
    },
    "papermill": {
     "duration": 0.65179,
     "end_time": "2022-09-16T04:17:24.813332",
     "exception": false,
     "start_time": "2022-09-16T04:17:24.161542",
     "status": "completed"
    },
    "tags": []
   },
   "outputs": [
    {
     "data": {
      "image/png": "[encoded data removed]",
      "text/plain": [
       "<Figure size 1440x1080 with 4 Axes>"
      ]
     },
     "metadata": {
      "needs_background": "light"
     },
     "output_type": "display_data"
    }
   ],
   "source": [
    "f,ax = plt.subplots(2,2,figsize=(20,15))\n",
    "sns.countplot('Embarked',data=data,ax=ax[0,0])\n",
    "ax[0,0].set_title(\"No. Of Passengers boarded\")\n",
    "sns.countplot('Embarked',hue='Sex',data=data,ax=ax[0,1])\n",
    "ax[0,1].set_title(\"Male-Female Split for Embarked\")\n",
    "sns.countplot('Embarked',hue='Survived',data=data,ax=ax[1,0])\n",
    "ax[1,0].set_title(\"Embarked vs Survived\")\n",
    "sns.countplot('Embarked',hue='Pclass',data=data,ax=ax[1,1])\n",
    "ax[1,1].set_title('Embarked vs Pclass')\n",
    "plt.subplots_adjust(wspace=0.2,hspace=0.5)\n",
    "plt.show()"
   ]
  },
  {
   "cell_type": "markdown",
   "id": "641ce2e4",
   "metadata": {
    "papermill": {
     "duration": 0.021373,
     "end_time": "2022-09-16T04:17:24.856765",
     "exception": false,
     "start_time": "2022-09-16T04:17:24.835392",
     "status": "completed"
    },
    "tags": []
   },
   "source": [
    "#### Observations:\n",
    "\n",
    "1) Maximum passengers boarded from S. Majority of tehm being from Pclass3.\n",
    "\n",
    "2) The Passengers from C look to be lucky as a good proportion of them survived.The reason for this maybe the rescue of all the Pclass1 ans Pclass2 Passengers\n",
    "\n",
    "3) The Embark S looks to the port form where majority of the rich people boarded. Still the chances for survival is low here, that is because many passengers from Pclass3 around 81% didn't survive.\n",
    "\n",
    "4) Port Q had almost 95% of the passengers were from Pclass3"
   ]
  },
  {
   "cell_type": "code",
   "execution_count": 26,
   "id": "b23d344e",
   "metadata": {
    "execution": {
     "iopub.execute_input": "2022-09-16T04:17:24.902555Z",
     "iopub.status.busy": "2022-09-16T04:17:24.901735Z",
     "iopub.status.idle": "2022-09-16T04:17:26.055530Z",
     "shell.execute_reply": "2022-09-16T04:17:26.054312Z"
    },
    "papermill": {
     "duration": 1.179596,
     "end_time": "2022-09-16T04:17:26.058096",
     "exception": false,
     "start_time": "2022-09-16T04:17:24.878500",
     "status": "completed"
    },
    "tags": []
   },
   "outputs": [
    {
     "data": {
      "image/png": "[encoded data removed]",
      "text/plain": [
       "<Figure size 1150.5x360 with 3 Axes>"
      ]
     },
     "metadata": {
      "needs_background": "light"
     },
     "output_type": "display_data"
    }
   ],
   "source": [
    "sns.factorplot('Pclass','Survived',hue='Sex',col='Embarked',data=data)\n",
    "plt.show()"
   ]
  },
  {
   "cell_type": "markdown",
   "id": "c0deebae",
   "metadata": {
    "papermill": {
     "duration": 0.022833,
     "end_time": "2022-09-16T04:17:26.104320",
     "exception": false,
     "start_time": "2022-09-16T04:17:26.081487",
     "status": "completed"
    },
    "tags": []
   },
   "source": [
    "#### Observations:\n",
    "\n",
    "1)The survival chances are almost 1 for women for Pclass1 and Pclass2 irrespective of the Pclass.\n",
    "\n",
    "2)Port S looks to be very unlucky for Pclass3 Passenegers as the survival rate for both men and women is very low.(Money Matters)\n",
    "\n",
    "3)Port Q looks looks to be unlukiest for Men, as almost all were from Pclass 3."
   ]
  },
  {
   "cell_type": "markdown",
   "id": "835c0e38",
   "metadata": {
    "papermill": {
     "duration": 0.022758,
     "end_time": "2022-09-16T04:17:26.150067",
     "exception": false,
     "start_time": "2022-09-16T04:17:26.127309",
     "status": "completed"
    },
    "tags": []
   },
   "source": [
    "#### Filling Embarked NaN"
   ]
  },
  {
   "cell_type": "code",
   "execution_count": 27,
   "id": "f95d1d50",
   "metadata": {
    "execution": {
     "iopub.execute_input": "2022-09-16T04:17:26.203717Z",
     "iopub.status.busy": "2022-09-16T04:17:26.203082Z",
     "iopub.status.idle": "2022-09-16T04:17:26.212586Z",
     "shell.execute_reply": "2022-09-16T04:17:26.211379Z"
    },
    "papermill": {
     "duration": 0.037797,
     "end_time": "2022-09-16T04:17:26.215460",
     "exception": false,
     "start_time": "2022-09-16T04:17:26.177663",
     "status": "completed"
    },
    "tags": []
   },
   "outputs": [
    {
     "data": {
      "text/plain": [
       "False"
      ]
     },
     "execution_count": 27,
     "metadata": {},
     "output_type": "execute_result"
    }
   ],
   "source": [
    "data['Embarked'].fillna('S',inplace=True)\n",
    "\n",
    "data.Embarked.isnull().any()"
   ]
  },
  {
   "cell_type": "markdown",
   "id": "4e5e132c",
   "metadata": {
    "papermill": {
     "duration": 0.022273,
     "end_time": "2022-09-16T04:17:26.260332",
     "exception": false,
     "start_time": "2022-09-16T04:17:26.238059",
     "status": "completed"
    },
    "tags": []
   },
   "source": [
    "## SibSip -->Discrete Feature"
   ]
  },
  {
   "cell_type": "code",
   "execution_count": 28,
   "id": "a9726a4b",
   "metadata": {
    "execution": {
     "iopub.execute_input": "2022-09-16T04:17:26.307692Z",
     "iopub.status.busy": "2022-09-16T04:17:26.307272Z",
     "iopub.status.idle": "2022-09-16T04:17:26.335102Z",
     "shell.execute_reply": "2022-09-16T04:17:26.333788Z"
    },
    "papermill": {
     "duration": 0.054498,
     "end_time": "2022-09-16T04:17:26.337597",
     "exception": false,
     "start_time": "2022-09-16T04:17:26.283099",
     "status": "completed"
    },
    "tags": []
   },
   "outputs": [
    {
     "data": {
      "text/html": [
       "<style type=\"text/css\">\n",
       "#T_15856_row0_col0, #T_15856_row0_col1 {\n",
       "  background-color: #008066;\n",
       "  color: #f1f1f1;\n",
       "}\n",
       "#T_15856_row1_col0 {\n",
       "  background-color: #c4e266;\n",
       "  color: #000000;\n",
       "}\n",
       "#T_15856_row1_col1 {\n",
       "  background-color: #77bb66;\n",
       "  color: #f1f1f1;\n",
       "}\n",
       "#T_15856_row2_col0, #T_15856_row4_col0 {\n",
       "  background-color: #f9fc66;\n",
       "  color: #000000;\n",
       "}\n",
       "#T_15856_row2_col1 {\n",
       "  background-color: #f0f866;\n",
       "  color: #000000;\n",
       "}\n",
       "#T_15856_row3_col0, #T_15856_row3_col1 {\n",
       "  background-color: #fbfd66;\n",
       "  color: #000000;\n",
       "}\n",
       "#T_15856_row4_col1 {\n",
       "  background-color: #fcfe66;\n",
       "  color: #000000;\n",
       "}\n",
       "#T_15856_row5_col0, #T_15856_row5_col1, #T_15856_row6_col1 {\n",
       "  background-color: #ffff66;\n",
       "  color: #000000;\n",
       "}\n",
       "#T_15856_row6_col0 {\n",
       "  background-color: #fefe66;\n",
       "  color: #000000;\n",
       "}\n",
       "</style>\n",
       "<table id=\"T_15856_\">\n",
       "  <thead>\n",
       "    <tr>\n",
       "      <th class=\"index_name level0\" >Survived</th>\n",
       "      <th class=\"col_heading level0 col0\" >0</th>\n",
       "      <th class=\"col_heading level0 col1\" >1</th>\n",
       "    </tr>\n",
       "    <tr>\n",
       "      <th class=\"index_name level0\" >SibSp</th>\n",
       "      <th class=\"blank col0\" >&nbsp;</th>\n",
       "      <th class=\"blank col1\" >&nbsp;</th>\n",
       "    </tr>\n",
       "  </thead>\n",
       "  <tbody>\n",
       "    <tr>\n",
       "      <th id=\"T_15856_level0_row0\" class=\"row_heading level0 row0\" >0</th>\n",
       "      <td id=\"T_15856_row0_col0\" class=\"data row0 col0\" >398</td>\n",
       "      <td id=\"T_15856_row0_col1\" class=\"data row0 col1\" >210</td>\n",
       "    </tr>\n",
       "    <tr>\n",
       "      <th id=\"T_15856_level0_row1\" class=\"row_heading level0 row1\" >1</th>\n",
       "      <td id=\"T_15856_row1_col0\" class=\"data row1 col0\" >97</td>\n",
       "      <td id=\"T_15856_row1_col1\" class=\"data row1 col1\" >112</td>\n",
       "    </tr>\n",
       "    <tr>\n",
       "      <th id=\"T_15856_level0_row2\" class=\"row_heading level0 row2\" >2</th>\n",
       "      <td id=\"T_15856_row2_col0\" class=\"data row2 col0\" >15</td>\n",
       "      <td id=\"T_15856_row2_col1\" class=\"data row2 col1\" >13</td>\n",
       "    </tr>\n",
       "    <tr>\n",
       "      <th id=\"T_15856_level0_row3\" class=\"row_heading level0 row3\" >3</th>\n",
       "      <td id=\"T_15856_row3_col0\" class=\"data row3 col0\" >12</td>\n",
       "      <td id=\"T_15856_row3_col1\" class=\"data row3 col1\" >4</td>\n",
       "    </tr>\n",
       "    <tr>\n",
       "      <th id=\"T_15856_level0_row4\" class=\"row_heading level0 row4\" >4</th>\n",
       "      <td id=\"T_15856_row4_col0\" class=\"data row4 col0\" >15</td>\n",
       "      <td id=\"T_15856_row4_col1\" class=\"data row4 col1\" >3</td>\n",
       "    </tr>\n",
       "    <tr>\n",
       "      <th id=\"T_15856_level0_row5\" class=\"row_heading level0 row5\" >5</th>\n",
       "      <td id=\"T_15856_row5_col0\" class=\"data row5 col0\" >5</td>\n",
       "      <td id=\"T_15856_row5_col1\" class=\"data row5 col1\" >0</td>\n",
       "    </tr>\n",
       "    <tr>\n",
       "      <th id=\"T_15856_level0_row6\" class=\"row_heading level0 row6\" >8</th>\n",
       "      <td id=\"T_15856_row6_col0\" class=\"data row6 col0\" >7</td>\n",
       "      <td id=\"T_15856_row6_col1\" class=\"data row6 col1\" >0</td>\n",
       "    </tr>\n",
       "  </tbody>\n",
       "</table>\n"
      ],
      "text/plain": [
       "<pandas.io.formats.style.Styler at 0x7fe8e535aa90>"
      ]
     },
     "execution_count": 28,
     "metadata": {},
     "output_type": "execute_result"
    }
   ],
   "source": [
    "pd.crosstab([data.SibSp],data.Survived).style.background_gradient(cmap='summer_r')"
   ]
  },
  {
   "cell_type": "code",
   "execution_count": 29,
   "id": "ffbd25f6",
   "metadata": {
    "execution": {
     "iopub.execute_input": "2022-09-16T04:17:26.386069Z",
     "iopub.status.busy": "2022-09-16T04:17:26.385587Z",
     "iopub.status.idle": "2022-09-16T04:17:27.309725Z",
     "shell.execute_reply": "2022-09-16T04:17:27.308730Z"
    },
    "papermill": {
     "duration": 0.951595,
     "end_time": "2022-09-16T04:17:27.312257",
     "exception": false,
     "start_time": "2022-09-16T04:17:26.360662",
     "status": "completed"
    },
    "tags": []
   },
   "outputs": [
    {
     "data": {
      "image/png": "[encoded data removed]",
      "text/plain": [
       "<Figure size 1440x576 with 2 Axes>"
      ]
     },
     "metadata": {
      "needs_background": "light"
     },
     "output_type": "display_data"
    }
   ],
   "source": [
    "f, ax = plt.subplots(1,2,figsize=(20,8))\n",
    "sns.barplot('SibSp','Survived',data=data,ax=ax[0])\n",
    "ax[0].set_title('SibSp vs Survived')\n",
    "sns.factorplot('SibSp','Survived',data=data,ax=ax[1])\n",
    "ax[1].set_title('SibSp vs Survived')\n",
    "plt.close(2)\n",
    "plt.show()"
   ]
  },
  {
   "cell_type": "code",
   "execution_count": 30,
   "id": "f422f59b",
   "metadata": {
    "execution": {
     "iopub.execute_input": "2022-09-16T04:17:27.365146Z",
     "iopub.status.busy": "2022-09-16T04:17:27.364336Z",
     "iopub.status.idle": "2022-09-16T04:17:27.397280Z",
     "shell.execute_reply": "2022-09-16T04:17:27.395940Z"
    },
    "papermill": {
     "duration": 0.063062,
     "end_time": "2022-09-16T04:17:27.400490",
     "exception": false,
     "start_time": "2022-09-16T04:17:27.337428",
     "status": "completed"
    },
    "tags": []
   },
   "outputs": [
    {
     "data": {
      "text/html": [
       "<style type=\"text/css\">\n",
       "#T_d39f3_row0_col0, #T_d39f3_row0_col1, #T_d39f3_row0_col2 {\n",
       "  background-color: #008066;\n",
       "  color: #f1f1f1;\n",
       "}\n",
       "#T_d39f3_row1_col0 {\n",
       "  background-color: #7bbd66;\n",
       "  color: #000000;\n",
       "}\n",
       "#T_d39f3_row1_col1 {\n",
       "  background-color: #8ac466;\n",
       "  color: #000000;\n",
       "}\n",
       "#T_d39f3_row1_col2 {\n",
       "  background-color: #c6e266;\n",
       "  color: #000000;\n",
       "}\n",
       "#T_d39f3_row2_col0, #T_d39f3_row4_col2 {\n",
       "  background-color: #f6fa66;\n",
       "  color: #000000;\n",
       "}\n",
       "#T_d39f3_row2_col1 {\n",
       "  background-color: #eef666;\n",
       "  color: #000000;\n",
       "}\n",
       "#T_d39f3_row2_col2 {\n",
       "  background-color: #f8fc66;\n",
       "  color: #000000;\n",
       "}\n",
       "#T_d39f3_row3_col0, #T_d39f3_row3_col2 {\n",
       "  background-color: #fafc66;\n",
       "  color: #000000;\n",
       "}\n",
       "#T_d39f3_row3_col1 {\n",
       "  background-color: #fdfe66;\n",
       "  color: #000000;\n",
       "}\n",
       "#T_d39f3_row4_col0, #T_d39f3_row4_col1, #T_d39f3_row5_col0, #T_d39f3_row5_col1, #T_d39f3_row5_col2, #T_d39f3_row6_col0, #T_d39f3_row6_col1 {\n",
       "  background-color: #ffff66;\n",
       "  color: #000000;\n",
       "}\n",
       "#T_d39f3_row6_col2 {\n",
       "  background-color: #fefe66;\n",
       "  color: #000000;\n",
       "}\n",
       "</style>\n",
       "<table id=\"T_d39f3_\">\n",
       "  <thead>\n",
       "    <tr>\n",
       "      <th class=\"index_name level0\" >Pclass</th>\n",
       "      <th class=\"col_heading level0 col0\" >1</th>\n",
       "      <th class=\"col_heading level0 col1\" >2</th>\n",
       "      <th class=\"col_heading level0 col2\" >3</th>\n",
       "    </tr>\n",
       "    <tr>\n",
       "      <th class=\"index_name level0\" >SibSp</th>\n",
       "      <th class=\"blank col0\" >&nbsp;</th>\n",
       "      <th class=\"blank col1\" >&nbsp;</th>\n",
       "      <th class=\"blank col2\" >&nbsp;</th>\n",
       "    </tr>\n",
       "  </thead>\n",
       "  <tbody>\n",
       "    <tr>\n",
       "      <th id=\"T_d39f3_level0_row0\" class=\"row_heading level0 row0\" >0</th>\n",
       "      <td id=\"T_d39f3_row0_col0\" class=\"data row0 col0\" >137</td>\n",
       "      <td id=\"T_d39f3_row0_col1\" class=\"data row0 col1\" >120</td>\n",
       "      <td id=\"T_d39f3_row0_col2\" class=\"data row0 col2\" >351</td>\n",
       "    </tr>\n",
       "    <tr>\n",
       "      <th id=\"T_d39f3_level0_row1\" class=\"row_heading level0 row1\" >1</th>\n",
       "      <td id=\"T_d39f3_row1_col0\" class=\"data row1 col0\" >71</td>\n",
       "      <td id=\"T_d39f3_row1_col1\" class=\"data row1 col1\" >55</td>\n",
       "      <td id=\"T_d39f3_row1_col2\" class=\"data row1 col2\" >83</td>\n",
       "    </tr>\n",
       "    <tr>\n",
       "      <th id=\"T_d39f3_level0_row2\" class=\"row_heading level0 row2\" >2</th>\n",
       "      <td id=\"T_d39f3_row2_col0\" class=\"data row2 col0\" >5</td>\n",
       "      <td id=\"T_d39f3_row2_col1\" class=\"data row2 col1\" >8</td>\n",
       "      <td id=\"T_d39f3_row2_col2\" class=\"data row2 col2\" >15</td>\n",
       "    </tr>\n",
       "    <tr>\n",
       "      <th id=\"T_d39f3_level0_row3\" class=\"row_heading level0 row3\" >3</th>\n",
       "      <td id=\"T_d39f3_row3_col0\" class=\"data row3 col0\" >3</td>\n",
       "      <td id=\"T_d39f3_row3_col1\" class=\"data row3 col1\" >1</td>\n",
       "      <td id=\"T_d39f3_row3_col2\" class=\"data row3 col2\" >12</td>\n",
       "    </tr>\n",
       "    <tr>\n",
       "      <th id=\"T_d39f3_level0_row4\" class=\"row_heading level0 row4\" >4</th>\n",
       "      <td id=\"T_d39f3_row4_col0\" class=\"data row4 col0\" >0</td>\n",
       "      <td id=\"T_d39f3_row4_col1\" class=\"data row4 col1\" >0</td>\n",
       "      <td id=\"T_d39f3_row4_col2\" class=\"data row4 col2\" >18</td>\n",
       "    </tr>\n",
       "    <tr>\n",
       "      <th id=\"T_d39f3_level0_row5\" class=\"row_heading level0 row5\" >5</th>\n",
       "      <td id=\"T_d39f3_row5_col0\" class=\"data row5 col0\" >0</td>\n",
       "      <td id=\"T_d39f3_row5_col1\" class=\"data row5 col1\" >0</td>\n",
       "      <td id=\"T_d39f3_row5_col2\" class=\"data row5 col2\" >5</td>\n",
       "    </tr>\n",
       "    <tr>\n",
       "      <th id=\"T_d39f3_level0_row6\" class=\"row_heading level0 row6\" >8</th>\n",
       "      <td id=\"T_d39f3_row6_col0\" class=\"data row6 col0\" >0</td>\n",
       "      <td id=\"T_d39f3_row6_col1\" class=\"data row6 col1\" >0</td>\n",
       "      <td id=\"T_d39f3_row6_col2\" class=\"data row6 col2\" >7</td>\n",
       "    </tr>\n",
       "  </tbody>\n",
       "</table>\n"
      ],
      "text/plain": [
       "<pandas.io.formats.style.Styler at 0x7fe8dc2e5090>"
      ]
     },
     "execution_count": 30,
     "metadata": {},
     "output_type": "execute_result"
    }
   ],
   "source": [
    "pd.crosstab(data['SibSp'],data['Pclass']).style.background_gradient(cmap='summer_r')"
   ]
  },
  {
   "cell_type": "markdown",
   "id": "c51ea12d",
   "metadata": {
    "papermill": {
     "duration": 0.023615,
     "end_time": "2022-09-16T04:17:27.448788",
     "exception": false,
     "start_time": "2022-09-16T04:17:27.425173",
     "status": "completed"
    },
    "tags": []
   },
   "source": [
    "#### Observations:\n",
    "\n",
    "The barplot and factorplot shows that if a passenger is alone onboard with no siblings, he have 34.5% survival rate. The graph roughly decreases if the number of siblings increase. This makes sense. That is, if I have a family on board, I will try to save them instead of saving myself first. Surprisingly the survival for families with 5-8 members is 0%. The reason may be Pclass??\n",
    "\n",
    "The reason is Pclass. The crosstab shows that Person with SibSp>3 were all in Pclass3. It is imminent that all the large families in Pclass3(>3) died."
   ]
  },
  {
   "cell_type": "markdown",
   "id": "442d6c12",
   "metadata": {
    "papermill": {
     "duration": 0.025021,
     "end_time": "2022-09-16T04:17:27.498717",
     "exception": false,
     "start_time": "2022-09-16T04:17:27.473696",
     "status": "completed"
    },
    "tags": []
   },
   "source": [
    "## Parch"
   ]
  },
  {
   "cell_type": "code",
   "execution_count": 31,
   "id": "7693007a",
   "metadata": {
    "execution": {
     "iopub.execute_input": "2022-09-16T04:17:27.549183Z",
     "iopub.status.busy": "2022-09-16T04:17:27.548049Z",
     "iopub.status.idle": "2022-09-16T04:17:27.578033Z",
     "shell.execute_reply": "2022-09-16T04:17:27.576982Z"
    },
    "papermill": {
     "duration": 0.058001,
     "end_time": "2022-09-16T04:17:27.580733",
     "exception": false,
     "start_time": "2022-09-16T04:17:27.522732",
     "status": "completed"
    },
    "tags": []
   },
   "outputs": [
    {
     "data": {
      "text/html": [
       "<style type=\"text/css\">\n",
       "#T_2b731_row0_col0, #T_2b731_row0_col1, #T_2b731_row0_col2 {\n",
       "  background-color: #008066;\n",
       "  color: #f1f1f1;\n",
       "}\n",
       "#T_2b731_row1_col0 {\n",
       "  background-color: #cfe766;\n",
       "  color: #000000;\n",
       "}\n",
       "#T_2b731_row1_col1 {\n",
       "  background-color: #c2e066;\n",
       "  color: #000000;\n",
       "}\n",
       "#T_2b731_row1_col2 {\n",
       "  background-color: #dbed66;\n",
       "  color: #000000;\n",
       "}\n",
       "#T_2b731_row2_col0 {\n",
       "  background-color: #dfef66;\n",
       "  color: #000000;\n",
       "}\n",
       "#T_2b731_row2_col1 {\n",
       "  background-color: #e1f066;\n",
       "  color: #000000;\n",
       "}\n",
       "#T_2b731_row2_col2 {\n",
       "  background-color: #e3f166;\n",
       "  color: #000000;\n",
       "}\n",
       "#T_2b731_row3_col0, #T_2b731_row4_col1, #T_2b731_row5_col0, #T_2b731_row5_col1, #T_2b731_row6_col0, #T_2b731_row6_col1, #T_2b731_row6_col2 {\n",
       "  background-color: #ffff66;\n",
       "  color: #000000;\n",
       "}\n",
       "#T_2b731_row3_col1 {\n",
       "  background-color: #fcfe66;\n",
       "  color: #000000;\n",
       "}\n",
       "#T_2b731_row3_col2, #T_2b731_row4_col0, #T_2b731_row4_col2 {\n",
       "  background-color: #fefe66;\n",
       "  color: #000000;\n",
       "}\n",
       "#T_2b731_row5_col2 {\n",
       "  background-color: #fdfe66;\n",
       "  color: #000000;\n",
       "}\n",
       "</style>\n",
       "<table id=\"T_2b731_\">\n",
       "  <thead>\n",
       "    <tr>\n",
       "      <th class=\"index_name level0\" >Pclass</th>\n",
       "      <th class=\"col_heading level0 col0\" >1</th>\n",
       "      <th class=\"col_heading level0 col1\" >2</th>\n",
       "      <th class=\"col_heading level0 col2\" >3</th>\n",
       "    </tr>\n",
       "    <tr>\n",
       "      <th class=\"index_name level0\" >Parch</th>\n",
       "      <th class=\"blank col0\" >&nbsp;</th>\n",
       "      <th class=\"blank col1\" >&nbsp;</th>\n",
       "      <th class=\"blank col2\" >&nbsp;</th>\n",
       "    </tr>\n",
       "  </thead>\n",
       "  <tbody>\n",
       "    <tr>\n",
       "      <th id=\"T_2b731_level0_row0\" class=\"row_heading level0 row0\" >0</th>\n",
       "      <td id=\"T_2b731_row0_col0\" class=\"data row0 col0\" >163</td>\n",
       "      <td id=\"T_2b731_row0_col1\" class=\"data row0 col1\" >134</td>\n",
       "      <td id=\"T_2b731_row0_col2\" class=\"data row0 col2\" >381</td>\n",
       "    </tr>\n",
       "    <tr>\n",
       "      <th id=\"T_2b731_level0_row1\" class=\"row_heading level0 row1\" >1</th>\n",
       "      <td id=\"T_2b731_row1_col0\" class=\"data row1 col0\" >31</td>\n",
       "      <td id=\"T_2b731_row1_col1\" class=\"data row1 col1\" >32</td>\n",
       "      <td id=\"T_2b731_row1_col2\" class=\"data row1 col2\" >55</td>\n",
       "    </tr>\n",
       "    <tr>\n",
       "      <th id=\"T_2b731_level0_row2\" class=\"row_heading level0 row2\" >2</th>\n",
       "      <td id=\"T_2b731_row2_col0\" class=\"data row2 col0\" >21</td>\n",
       "      <td id=\"T_2b731_row2_col1\" class=\"data row2 col1\" >16</td>\n",
       "      <td id=\"T_2b731_row2_col2\" class=\"data row2 col2\" >43</td>\n",
       "    </tr>\n",
       "    <tr>\n",
       "      <th id=\"T_2b731_level0_row3\" class=\"row_heading level0 row3\" >3</th>\n",
       "      <td id=\"T_2b731_row3_col0\" class=\"data row3 col0\" >0</td>\n",
       "      <td id=\"T_2b731_row3_col1\" class=\"data row3 col1\" >2</td>\n",
       "      <td id=\"T_2b731_row3_col2\" class=\"data row3 col2\" >3</td>\n",
       "    </tr>\n",
       "    <tr>\n",
       "      <th id=\"T_2b731_level0_row4\" class=\"row_heading level0 row4\" >4</th>\n",
       "      <td id=\"T_2b731_row4_col0\" class=\"data row4 col0\" >1</td>\n",
       "      <td id=\"T_2b731_row4_col1\" class=\"data row4 col1\" >0</td>\n",
       "      <td id=\"T_2b731_row4_col2\" class=\"data row4 col2\" >3</td>\n",
       "    </tr>\n",
       "    <tr>\n",
       "      <th id=\"T_2b731_level0_row5\" class=\"row_heading level0 row5\" >5</th>\n",
       "      <td id=\"T_2b731_row5_col0\" class=\"data row5 col0\" >0</td>\n",
       "      <td id=\"T_2b731_row5_col1\" class=\"data row5 col1\" >0</td>\n",
       "      <td id=\"T_2b731_row5_col2\" class=\"data row5 col2\" >5</td>\n",
       "    </tr>\n",
       "    <tr>\n",
       "      <th id=\"T_2b731_level0_row6\" class=\"row_heading level0 row6\" >6</th>\n",
       "      <td id=\"T_2b731_row6_col0\" class=\"data row6 col0\" >0</td>\n",
       "      <td id=\"T_2b731_row6_col1\" class=\"data row6 col1\" >0</td>\n",
       "      <td id=\"T_2b731_row6_col2\" class=\"data row6 col2\" >1</td>\n",
       "    </tr>\n",
       "  </tbody>\n",
       "</table>\n"
      ],
      "text/plain": [
       "<pandas.io.formats.style.Styler at 0x7fe8e53181d0>"
      ]
     },
     "execution_count": 31,
     "metadata": {},
     "output_type": "execute_result"
    }
   ],
   "source": [
    "pd.crosstab(data.Parch, data.Pclass).style.background_gradient(cmap='summer_r')"
   ]
  },
  {
   "cell_type": "code",
   "execution_count": 32,
   "id": "951913f9",
   "metadata": {
    "execution": {
     "iopub.execute_input": "2022-09-16T04:17:27.634091Z",
     "iopub.status.busy": "2022-09-16T04:17:27.633342Z",
     "iopub.status.idle": "2022-09-16T04:17:28.449410Z",
     "shell.execute_reply": "2022-09-16T04:17:28.447977Z"
    },
    "papermill": {
     "duration": 0.847461,
     "end_time": "2022-09-16T04:17:28.453429",
     "exception": false,
     "start_time": "2022-09-16T04:17:27.605968",
     "status": "completed"
    },
    "tags": []
   },
   "outputs": [
    {
     "data": {
      "image/png": "[encoded data removed]",
      "text/plain": [
       "<Figure size 1440x576 with 2 Axes>"
      ]
     },
     "metadata": {
      "needs_background": "light"
     },
     "output_type": "display_data"
    }
   ],
   "source": [
    "f,ax=plt.subplots(1,2,figsize=(20,8))\n",
    "sns.barplot('Parch','Survived',data=data,ax=ax[0])\n",
    "ax[0].set_title('Parch vs Survived')\n",
    "sns.factorplot('Parch','Survived',data=data,ax=ax[1])\n",
    "ax[1].set_title('Parch vs Survived')\n",
    "plt.close(2)\n",
    "plt.show()"
   ]
  },
  {
   "cell_type": "markdown",
   "id": "dfead778",
   "metadata": {
    "papermill": {
     "duration": 0.026158,
     "end_time": "2022-09-16T04:17:28.504598",
     "exception": false,
     "start_time": "2022-09-16T04:17:28.478440",
     "status": "completed"
    },
    "tags": []
   },
   "source": [
    "#### Observations:\n",
    "\n",
    "Here too the results are quite similar. Passengers with their parents onboard have greater chance of survival. It however reduces as the number goes up.\n",
    "\n",
    "The chances of survival is good for somebody who has 1-3 parents on the ship. Being alone also proves to be fatal and the chances for survival decreases when somebody has >4 parents on the ship."
   ]
  },
  {
   "cell_type": "markdown",
   "id": "10d734ce",
   "metadata": {
    "papermill": {
     "duration": 0.025848,
     "end_time": "2022-09-16T04:17:28.555997",
     "exception": false,
     "start_time": "2022-09-16T04:17:28.530149",
     "status": "completed"
    },
    "tags": []
   },
   "source": [
    "## Fare --> Continous Feature"
   ]
  },
  {
   "cell_type": "code",
   "execution_count": 33,
   "id": "42c3d4fa",
   "metadata": {
    "execution": {
     "iopub.execute_input": "2022-09-16T04:17:28.609778Z",
     "iopub.status.busy": "2022-09-16T04:17:28.608502Z",
     "iopub.status.idle": "2022-09-16T04:17:28.616887Z",
     "shell.execute_reply": "2022-09-16T04:17:28.615731Z"
    },
    "papermill": {
     "duration": 0.038355,
     "end_time": "2022-09-16T04:17:28.619761",
     "exception": false,
     "start_time": "2022-09-16T04:17:28.581406",
     "status": "completed"
    },
    "tags": []
   },
   "outputs": [
    {
     "name": "stdout",
     "output_type": "stream",
     "text": [
      "Highest Fare was :  512.3292\n",
      "Lowest Fare was :  0.0\n",
      "Average Fare was :  32.204207968574636\n"
     ]
    }
   ],
   "source": [
    "print('Highest Fare was : ', data['Fare'].max())\n",
    "print('Lowest Fare was : ', data['Fare'].min())\n",
    "print('Average Fare was : ', data['Fare'].mean())\n"
   ]
  },
  {
   "cell_type": "code",
   "execution_count": 34,
   "id": "2616c281",
   "metadata": {
    "execution": {
     "iopub.execute_input": "2022-09-16T04:17:28.671539Z",
     "iopub.status.busy": "2022-09-16T04:17:28.670715Z",
     "iopub.status.idle": "2022-09-16T04:17:29.353633Z",
     "shell.execute_reply": "2022-09-16T04:17:29.352439Z"
    },
    "papermill": {
     "duration": 0.712105,
     "end_time": "2022-09-16T04:17:29.356885",
     "exception": false,
     "start_time": "2022-09-16T04:17:28.644780",
     "status": "completed"
    },
    "tags": []
   },
   "outputs": [
    {
     "data": {
      "image/png": "[encoded data removed]",
      "text/plain": [
       "<Figure size 1440x576 with 3 Axes>"
      ]
     },
     "metadata": {
      "needs_background": "light"
     },
     "output_type": "display_data"
    }
   ],
   "source": [
    "f,ax = plt.subplots(1,3,figsize=(20,8))\n",
    "sns.distplot(data[data['Pclass']==1].Fare,ax=ax[0])\n",
    "ax[0].set_title('Fares in Pclass = 1')\n",
    "sns.distplot(data[data['Pclass']==2].Fare,ax=ax[1])\n",
    "ax[1].set_title('Fares in Pclass = 2')\n",
    "sns.distplot(data[data['Pclass']==3].Fare,ax=ax[2])\n",
    "ax[2].set_title('Fares in Pclass = 3')\n",
    "plt.show()\n"
   ]
  },
  {
   "cell_type": "markdown",
   "id": "53ced556",
   "metadata": {
    "papermill": {
     "duration": 0.026111,
     "end_time": "2022-09-16T04:17:29.411851",
     "exception": false,
     "start_time": "2022-09-16T04:17:29.385740",
     "status": "completed"
    },
    "tags": []
   },
   "source": [
    "There looks to be a large distribution in the fares of Passengers in Pclass1 and this distribution goes on decreasing as the standards reduces. As this is also continous, we can convert into discrete values by using binning."
   ]
  },
  {
   "cell_type": "markdown",
   "id": "838a3d4d",
   "metadata": {
    "papermill": {
     "duration": 0.025738,
     "end_time": "2022-09-16T04:17:29.463259",
     "exception": false,
     "start_time": "2022-09-16T04:17:29.437521",
     "status": "completed"
    },
    "tags": []
   },
   "source": [
    "#### Observations in a Nutshell for all features:\n",
    "**Sex**: The chance of survival for women is high as compared to men.\n",
    "\n",
    "**Pclass**:There is a visible trend that being a 1st class passenger gives you better chances of survival. The survival rate for Pclass3 is very low. For women, the chance of survival from Pclass1 is almost 1 and is high too for those from Pclass2. Money Wins!!!.\n",
    "\n",
    "**Age**: Children less than 5-10 years do have a high chance of survival. Passengers between age group 15 to 35 died a lot.\n",
    "\n",
    "**Embarked**: This is a very interesting feature. The chances of survival at C looks to be better than even though the majority of Pclass1 passengers got up at S. Passengers at Q were all from Pclass3.\n",
    "\n",
    "**Parch+SibSp**: Having 1-2 siblings,spouse on board or 1-3 Parents shows a greater chance of probablity rather than being alone or having a large family travelling with you."
   ]
  },
  {
   "cell_type": "markdown",
   "id": "81105115",
   "metadata": {
    "papermill": {
     "duration": 0.025436,
     "end_time": "2022-09-16T04:17:29.514148",
     "exception": false,
     "start_time": "2022-09-16T04:17:29.488712",
     "status": "completed"
    },
    "tags": []
   },
   "source": [
    "## Correlation Between The Features"
   ]
  },
  {
   "cell_type": "code",
   "execution_count": 35,
   "id": "1081ea10",
   "metadata": {
    "execution": {
     "iopub.execute_input": "2022-09-16T04:17:29.568033Z",
     "iopub.status.busy": "2022-09-16T04:17:29.566855Z",
     "iopub.status.idle": "2022-09-16T04:17:30.250156Z",
     "shell.execute_reply": "2022-09-16T04:17:30.248911Z"
    },
    "papermill": {
     "duration": 0.713372,
     "end_time": "2022-09-16T04:17:30.252726",
     "exception": false,
     "start_time": "2022-09-16T04:17:29.539354",
     "status": "completed"
    },
    "tags": []
   },
   "outputs": [
    {
     "data": {
      "image/png": "[encoded data removed]",
      "text/plain": [
       "<Figure size 720x576 with 2 Axes>"
      ]
     },
     "metadata": {
      "needs_background": "light"
     },
     "output_type": "display_data"
    }
   ],
   "source": [
    "sns.heatmap(data.corr(),annot=True,cmap='RdYlGn',linewidths=0.2)\n",
    "fig=plt.gcf()\n",
    "fig.set_size_inches(10,8)\n",
    "plt.show()"
   ]
  },
  {
   "cell_type": "markdown",
   "id": "975b9db0",
   "metadata": {
    "papermill": {
     "duration": 0.027106,
     "end_time": "2022-09-16T04:17:30.307269",
     "exception": false,
     "start_time": "2022-09-16T04:17:30.280163",
     "status": "completed"
    },
    "tags": []
   },
   "source": [
    "#### Interpreting The Heatmap\n",
    "\n",
    "The first thing to note is that only the numeric features are compared as it is obvious that we cannot correlate between alphabets or strings. Before understanding the plot, let us see what exactly correlation is.\n",
    "\n",
    "POSITIVE CORRELATION: If an increase in feature A leads to increase in feature B, then they are positively correlated. A value 1 means perfect positive correlation.\n",
    "\n",
    "NEGATIVE CORRELATION: If an increase in feature A leads to decrease in feature B, then they are negatively correlated. A value -1 means perfect negative correlation.\n",
    "\n",
    "Now lets say that two features are highly or perfectly correlated, so the increase in one leads to increase in the other. This means that both the features are containing highly similar information and there is very little or no variance in information. This is known as MultiColinearity as both of them contains almost the same information.\n",
    "\n",
    "So do you think we should use both of them as one of them is redundant. While making or training models, we should try to eliminate redundant features as it reduces training time and many such advantages.\n",
    "\n",
    "Now from the above heatmap,we can see that the features are not much correlated. The highest correlation is between SibSp and Parch i.e 0.41. So we can carry on with all features."
   ]
  }
 ],
 "metadata": {
  "kernelspec": {
   "display_name": "Python 3",
   "language": "python",
   "name": "python3"
  },
  "language_info": {
   "codemirror_mode": {
    "name": "ipython",
    "version": 3
   },
   "file_extension": ".py",
   "mimetype": "text/x-python",
   "name": "python",
   "nbconvert_exporter": "python",
   "pygments_lexer": "ipython3",
   "version": "3.7.12"
  },
  "papermill": {
   "default_parameters": {},
   "duration": 25.884766,
   "end_time": "2022-09-16T04:17:31.157160",
   "environment_variables": {},
   "exception": null,
   "input_path": "__notebook__.ipynb",
   "output_path": "__notebook__.ipynb",
   "parameters": {},
   "start_time": "2022-09-16T04:17:05.272394",
   "version": "2.3.4"
  }
 },
 "nbformat": 4,
 "nbformat_minor": 5
}
